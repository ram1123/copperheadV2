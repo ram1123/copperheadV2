{
 "cells": [
  {
   "cell_type": "code",
   "execution_count": null,
   "id": "79fcd8c1-2264-45ac-bf9d-58da85349dba",
   "metadata": {},
   "outputs": [],
   "source": [
    "import os"
   ]
  },
  {
   "cell_type": "code",
   "execution_count": null,
   "id": "78e6564b-e289-4d3d-9270-13da79dd0c91",
   "metadata": {},
   "outputs": [],
   "source": [
    "username = os.environ.get(\"USER\") or os.environ.get(\"USERNAME\")\n",
    "if username:\n",
    "    print(f\"Username: {username}\")\n",
    "else:\n",
    "    print(\"Username not found in environment variables.\")\n",
    "    sys.exit()"
   ]
  },
  {
   "cell_type": "code",
   "execution_count": null,
   "id": "ec0b7c8d-2157-476b-bf16-8c3f36a36997",
   "metadata": {},
   "outputs": [],
   "source": [
    "from pathlib import Path\n",
    "cwd = str(Path.cwd())\n",
    "print(f\"PWD: {cwd}\")\n",
    "os.environ[\"PYTHONPATH\"] += f\":{cwd}\"\n",
    "os.environ[\"X509_USER_PROXY\"] = f\"{cwd}/voms_proxy.txt\"\n",
    "os.environ['XRD_REQUESTTIMEOUT'] = \"300\"\n",
    "!echo $PYTHONPATH"
   ]
  },
  {
   "cell_type": "code",
   "execution_count": null,
   "id": "275494e4-3a0f-4d26-aafe-8abd771df5b4",
   "metadata": {},
   "outputs": [],
   "source": [
    "from dask_gateway import Gateway\n",
    "# gateway = Gateway() # For SLURM backend\n",
    "gateway = Gateway(\n",
    "    \"http://dask-gateway-k8s.geddes.rcac.purdue.edu/\",\n",
    "    proxy_address=\"traefik-dask-gateway-k8s.cms.geddes.rcac.purdue.edu:8786\",\n",
    ") # For KUBERNET backend"
   ]
  },
  {
   "cell_type": "code",
   "execution_count": null,
   "id": "b2eb73e1-4c0e-476d-864e-f781b0a331bc",
   "metadata": {},
   "outputs": [],
   "source": [
    "for cluster_info in gateway.list_clusters():\n",
    "    print(cluster_info)"
   ]
  },
  {
   "cell_type": "code",
   "execution_count": null,
   "id": "c1a51702-2fab-4bd6-a4f0-22cf289d5948",
   "metadata": {
    "editable": true,
    "slideshow": {
     "slide_type": ""
    },
    "tags": []
   },
   "outputs": [],
   "source": [
    "cluster = gateway.new_cluster(\n",
    "    # conda_env = \"/depot/cms/kernels/coffea2024\",\n",
    "    # conda_env = \"/depot/cms/kernels/root632\",\n",
    "    # conda_env = \"/depot/cms/kernels/coffea_latest\",\n",
    "    # conda_env = \"/depot/cms/kernels/coffea_dask\",\n",
    "    conda_env = \"/depot/cms/users/yun79/conda_envs/yun_coffea_latest\",\n",
    "    # conda_env = \"/depot/cms/users/yun79/conda_envs/pfn_env\",\n",
    "    worker_cores = 1, #2\n",
    "    # worker_memory = 60, #6\n",
    "    worker_memory = 55, #For data with 2500 files use 10GB workers\n",
    "    env = dict(os.environ),\n",
    ")\n",
    "\n",
    "cluster.adapt(minimum=25, maximum=399) # 399 for low resources, otherwise 199\n",
    "cluster\n",
    "# cluster.adapt(100)"
   ]
  },
  {
   "cell_type": "code",
   "execution_count": null,
   "id": "d6fc0cd8-29ba-4552-b3e4-e81539318878",
   "metadata": {},
   "outputs": [],
   "source": [
    "for cluster_info in gateway.list_clusters():\n",
    "    print(cluster_info)"
   ]
  },
  {
   "cell_type": "code",
   "execution_count": null,
   "id": "306107ed-0b83-4cee-86b9-c1ef247ef1ac",
   "metadata": {},
   "outputs": [],
   "source": [
    "ClusterID_ToShutdown = \"dd7659b707d34e33a0506fbdb6593a3d\"\n",
    "for cluster_info in gateway.list_clusters():\n",
    "    # print(cluster_info.name)\n",
    "    if ClusterID_ToShutdown in cluster_info.name:\n",
    "        print(cluster_info.name)\n",
    "        gateway.connect(cluster_info.name).shutdown()\n"
   ]
  },
  {
   "cell_type": "code",
   "execution_count": null,
   "id": "4001942e-7f41-4578-9236-33ab00edffe7",
   "metadata": {},
   "outputs": [],
   "source": [
    "\"\"\"\n",
    "To shutdown the cluster, run this cell\n",
    "Equivalently, you can also do \"squeue -u <username>\"\n",
    "if this is the only slurm job you're doing\n",
    "\"\"\"\n",
    "\n",
    "for cluster_info in gateway.list_clusters():\n",
    "    gateway.connect(cluster_info.name).shutdown()"
   ]
  },
  {
   "cell_type": "code",
   "execution_count": null,
   "id": "3d015374-9431-4718-9eb3-a37a00bb367f",
   "metadata": {},
   "outputs": [],
   "source": [
    "for cluster_info in gateway.list_clusters():\n",
    "    print(cluster_info)"
   ]
  }
 ],
 "metadata": {
  "kernelspec": {
   "display_name": "coffea_latest",
   "language": "python",
   "name": "coffea_latest"
  },
  "language_info": {
   "codemirror_mode": {
    "name": "ipython",
    "version": 3
   },
   "file_extension": ".py",
   "mimetype": "text/x-python",
   "name": "python",
   "nbconvert_exporter": "python",
   "pygments_lexer": "ipython3",
   "version": "3.12.11"
  }
 },
 "nbformat": 4,
 "nbformat_minor": 5
}
