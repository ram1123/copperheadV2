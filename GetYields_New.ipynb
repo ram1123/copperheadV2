{
 "cells": [
  {
   "cell_type": "code",
   "execution_count": 1,
   "id": "220aa3e4-c1a2-4107-ac79-40e7c04e743a",
   "metadata": {},
   "outputs": [],
   "source": [
    "import dask_awkward as dak\n",
    "import awkward as ak\n",
    "import pandas as pd\n",
    "\n",
    "from distributed import Client\n",
    "import glob\n",
    "import os\n",
    "\n",
    "client =  Client(n_workers=40,  threads_per_worker=1, processes=True, memory_limit='8 GiB')"
   ]
  },
  {
   "cell_type": "raw",
   "id": "2f9b8ab1-d1e2-44d3-a7dd-8ddca3454548",
   "metadata": {},
   "source": [
    "from pathlib import Path\n",
    "cwd = str(Path.cwd())\n",
    "print(f\"PWD: {cwd}\")\n",
    "os.environ[\"PYTHONPATH\"] += f\":{cwd}\"\n",
    "os.environ[\"X509_USER_PROXY\"] = f\"{cwd}/voms_proxy.txt\"\n",
    "os.environ['XRD_REQUESTTIMEOUT'] = \"2400\"\n",
    "!echo $PYTHONPATH"
   ]
  },
  {
   "cell_type": "code",
   "execution_count": 2,
   "id": "38ef0614-c103-4135-a481-2ea22ee22a56",
   "metadata": {},
   "outputs": [],
   "source": [
    "from modules import selection"
   ]
  },
  {
   "cell_type": "code",
   "execution_count": 3,
   "id": "23623547-8644-421b-b90c-eac42157028c",
   "metadata": {},
   "outputs": [],
   "source": [
    "V1_fields_2compute = [\n",
    "    # \"gjj_mass\",\n",
    "    \"wgt_nominal\",\n",
    "    \"nBtagLoose_nominal\",\n",
    "    \"nBtagMedium_nominal\",\n",
    "    \"mu1_pt\",\n",
    "    \"mu2_pt\",\n",
    "    \"mu1_eta\",\n",
    "    \"mu2_eta\",\n",
    "    \"mu1_phi\",\n",
    "    \"mu2_phi\",\n",
    "    \"dimuon_pt\",\n",
    "    \"dimuon_eta\",\n",
    "    \"dimuon_phi\",\n",
    "    \"dimuon_mass\",\n",
    "    \"jet1_phi_nominal\",\n",
    "    \"jet1_pt_nominal\",\n",
    "    \"jet2_pt_nominal\",\n",
    "    \"jet2_phi_nominal\",\n",
    "    \"jet1_eta_nominal\",\n",
    "    \"jet2_eta_nominal\",\n",
    "    \"jj_mass_nominal\",\n",
    "    \"jj_dEta_nominal\",\n",
    "    # \"region\",\n",
    "    \"event\",\n",
    "    \"njets_nominal\",\n",
    "    # \"run\",\n",
    "    # \"event\",\n",
    "    # \"luminosityBlock\",\n",
    "    \"nfatJets_drmuon\",\n",
    "    \"MET_pt\"\n",
    "]"
   ]
  },
  {
   "cell_type": "code",
   "execution_count": 4,
   "id": "ef5db31b-7e06-4836-8cbc-30035e978112",
   "metadata": {},
   "outputs": [],
   "source": [
    "# category=\"ggh\"\n",
    "category=\"vbf\"\n",
    "# region=\"signal\"\n",
    "# region=\"h-peak\"\n",
    "region=\"h-sidebands\"\n"
   ]
  },
  {
   "cell_type": "raw",
   "id": "b22a1d98-03b3-4695-805b-5c8e0819109c",
   "metadata": {
    "vscode": {
     "languageId": "raw"
    }
   },
   "source": [
    "filelist = glob.glob(f\"{load_path}/data_*\")\n",
    "process = \"data\"\n",
    "total_integral = 0\n",
    "for file in filelist:\n",
    "    # print(f\"file: {file}\")\n",
    "    events_data = dak.from_parquet(f\"{file}/*/*.parquet\")\n",
    "    events_data = ak.zip({field: events_data[field] for field in V1_fields_2compute}).compute()\n",
    "    events_data = selection.applyRegionCatCuts(events_data, category=category, region_name=region, process=process, variation=\"nominal\", do_vbf_filter_study=False)\n",
    "\n",
    "    wgts = ak.fill_none(events_data.wgt_nominal, value=1.0)\n",
    "    data_yield = ak.sum(wgts)\n",
    "    print(f\"Sum weights: {data_yield}\")\n",
    "    df = pd.DataFrame({field: ak.fill_none(events_data[field], value=-999.9) for field in events_data.fields})\n",
    "    print(f\"data_yield for {file.split(\"/\")[-1]}: {data_yield}\")\n",
    "    total_integral += data_yield\n",
    "print(f\"Total data entries: {total_integral}\")"
   ]
  },
  {
   "cell_type": "code",
   "execution_count": 5,
   "id": "76db1359-90a0-4a6d-ab01-ef75834c9340",
   "metadata": {},
   "outputs": [],
   "source": [
    "def getYield(process, load_path, do_vbf_filter_study=False, year=\"-\"):\n",
    "    print(\"{line} {process} {line}\".format(line=\"=\"*5, process=process))\n",
    "\n",
    "    fields = V1_fields_2compute\n",
    "    if \"data\" in process and \"gjj_mass\" in fields:\n",
    "        fields.remove(\"gjj_mass\")\n",
    "    if \"data\" not in process:\n",
    "        fields.append(\"gjj_mass\")\n",
    "\n",
    "    filelist = glob.glob(f\"{load_path}/{process}\")\n",
    "    total_integral = 0\n",
    "    for file in filelist:\n",
    "        # print(f\"\\tfile: {file}\")\n",
    "        events_data = dak.from_parquet(f\"{file}/*/*.parquet\")\n",
    "        events_data = ak.zip({field: events_data[field] for field in fields}).compute()\n",
    "        events_data = selection.applyRegionCatCuts(events_data, category=category, region_name=region, process=process, variation=\"nominal\", do_vbf_filter_study=do_vbf_filter_study)\n",
    "\n",
    "        wgts = ak.fill_none(events_data.wgt_nominal, value=1.0)\n",
    "        data_yield = ak.sum(wgts)\n",
    "        # print(f\"\\tSum weights: {data_yield}\")\n",
    "        df = pd.DataFrame({field: ak.fill_none(events_data[field], value=-999.9) for field in events_data.fields})\n",
    "        print(f\"\\tdata_yield for {file.split(\"/\")[-1]}: {data_yield}\")\n",
    "        total_integral += data_yield\n",
    "    print(f\"\\t==> Total Yield: {total_integral:.3f}\")\n",
    "    return process,region,year,total_integral"
   ]
  },
  {
   "cell_type": "code",
   "execution_count": 6,
   "id": "77d250a9-a53c-4164-99a0-c011dfe209f7",
   "metadata": {},
   "outputs": [
    {
     "name": "stdout",
     "output_type": "stream",
     "text": [
      "\n",
      "\n",
      "***** 2018 *****\n",
      "===== data* =====\n",
      "\tdata_yield for data_C: 339.0\n",
      "\tdata_yield for data_A: 773.0\n",
      "\tdata_yield for data_B: 386.0\n",
      "\tdata_yield for data_D: 1557.0\n",
      "\t==> Total Yield: 3055.000\n",
      "===== vbf_powheg_dipole =====\n",
      "\tdata_yield for vbf_powheg_dipole: 0.14962994221889378\n",
      "\t==> Total Yield: 0.150\n",
      "===== ggh_powhegPS =====\n",
      "\tdata_yield for ggh_powhegPS: 0.1175762412861803\n",
      "\t==> Total Yield: 0.118\n"
     ]
    }
   ],
   "source": [
    "import csv\n",
    "outfile = \"yield.csv\"\n",
    "years = [\"2018\", \"2017\", \"2016preVFP\", \"2016postVFP\"]\n",
    "\n",
    "years = [\"2018\"]\n",
    "info = []\n",
    "for year in years:\n",
    "    print(\"{vspace}{lspace} {year} {lspace}\".format(vspace=\"\\n\\n\", lspace=\"*\"*5, year=year))\n",
    "    # load_path = f\"/depot/cms/users/shar1172/hmm/copperheadV1clean/Run2_nanoAODv12_UpdatedQGL_FixPUJetIDWgt/stage1_output/{year}/compacted\"\n",
    "    # load_path = f\"/depot/cms/hmm/shar1172/hmm_ntuples/copperheadV1clean/Run2_nanoAODv12_AK8jets/stage1_output/{year}/f1_0\"\n",
    "    load_path = f\"/depot/cms/hmm/shar1172/hmm_ntuples/copperheadV1clean/Run2_nanoAODv12_AK8jets/stage1_output/{year}/f1_0\"\n",
    "    # getYield(\"data*\", load_path)\n",
    "    info.append(\n",
    "        getYield(process = \"data*\", load_path = load_path, year=year)\n",
    "    )\n",
    "    info.append(\n",
    "        getYield(process = \"vbf_powheg_dipole\", load_path = load_path, year=year)\n",
    "    )\n",
    "    info.append(\n",
    "        getYield(process = \"ggh_powhegPS\", load_path = load_path, year=year)\n",
    "    )\n",
    "    # getYield(\"dy_VBF_filter\", True)\n",
    "    # getYield(\"dy_M*_MiNNLO\", True)\n",
    "    # getYield(\"ewk_lljj_mll50_mjj120\")\n",
    "    # getYield(\"ggh_powhegPS\", load_path)\n",
    "    # getYield(\"st_*\")\n",
    "    # getYield(\"ttjets_*\")\n",
    "    # getYield(\"ww_2l2nu\")\n",
    "    # getYield(\"wz_1l1nu2q\")\n",
    "    # getYield(\"wz_2l2q\")\n",
    "    # getYield(\"wz_3lnu\")\n",
    "    # getYield(\"zz\")\n",
    "    # getYield(\"www\")\n",
    "    # getYield(\"wwz\")\n",
    "    # getYield(\"wzz\")\n",
    "    # getYield(\"zzz\")\n",
    "\n",
    "with open(outfile, 'w', newline='') as out_f:\n",
    "    writer = csv.writer(out_f)\n",
    "    writer.writerow(['sample', 'region', 'year', 'yield'])\n",
    "    writer.writerows(info)"
   ]
  },
  {
   "cell_type": "markdown",
   "id": "163c25fe-482c-4589-8d5e-a579728504fc",
   "metadata": {},
   "source": [
    "# With FatJet and MET veto\n",
    "\n",
    "```bash\n",
    "***** 2017 *****\n",
    "===== data* =====\n",
    "\tdata_yield for data_E: 475.0\n",
    "\tdata_yield for data_C: 477.0\n",
    "\tdata_yield for data_F: 727.0\n",
    "\tdata_yield for data_B: 283.0\n",
    "\tdata_yield for data_D: 201.0\n",
    "\t==> Total Yield: 2163.000\n",
    "===== vbf_powheg_dipole =====\n",
    "\tdata_yield for vbf_powheg_dipole: 0.10710499408020374\n",
    "\t==> Total Yield: 0.107\n",
    "===== ggh_powhegPS =====\n",
    "\tdata_yield for ggh_powhegPS: 0.07959645111818892\n",
    "        \t==> Total Yield: 0.080\n",
    "```\n",
    "\n",
    "# With default selection\n",
    "\n",
    "```bash\n",
    "***** 2017 *****\n",
    "===== data* =====\n",
    "\tdata_yield for data_E: 491.0\n",
    "\tdata_yield for data_C: 492.0\n",
    "\tdata_yield for data_F: 744.0\n",
    "\tdata_yield for data_B: 289.0\n",
    "\tdata_yield for data_D: 206.0\n",
    "\t==> Total Yield: 2222.000\n",
    "===== vbf_powheg_dipole =====\n",
    "\tdata_yield for vbf_powheg_dipole: 0.10736833694516268\n",
    "\t==> Total Yield: 0.107\n",
    "===== ggh_powhegPS =====\n",
    "\tdata_yield for ggh_powhegPS: 0.07959645111818892\n",
    "\t==> Total Yield: 0.080\n",
    "```"
   ]
  },
  {
   "cell_type": "code",
   "execution_count": null,
   "id": "82d5efd6-96de-4624-8f22-41f92be40df1",
   "metadata": {},
   "outputs": [],
   "source": []
  }
 ],
 "metadata": {
  "kernelspec": {
   "display_name": "coffea_latest",
   "language": "python",
   "name": "coffea_latest"
  },
  "language_info": {
   "codemirror_mode": {
    "name": "ipython",
    "version": 3
   },
   "file_extension": ".py",
   "mimetype": "text/x-python",
   "name": "python",
   "nbconvert_exporter": "python",
   "pygments_lexer": "ipython3",
   "version": "3.12.11"
  }
 },
 "nbformat": 4,
 "nbformat_minor": 5
}
