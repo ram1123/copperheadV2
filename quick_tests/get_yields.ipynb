{
 "cells": [
  {
   "cell_type": "code",
   "execution_count": 3,
   "id": "deb50695-99eb-4eff-a8e8-e9d7aa96b93a",
   "metadata": {
    "scrolled": true
   },
   "outputs": [],
   "source": [
    "import dask_awkward as dak\n",
    "import awkward as ak\n",
    "from distributed import LocalCluster, Client, progress\n",
    "import time\n",
    "import numpy as np\n",
    "import matplotlib.pyplot as plt\n",
    "import json\n",
    "import mplhep as hep\n",
    "import glob\n",
    "import pandas as pd\n",
    "\n",
    "plt.style.use(hep.style.CMS)\n",
    "\n",
    "client =  Client(n_workers=40,  threads_per_worker=1, processes=True, memory_limit='8 GiB') \n"
   ]
  },
  {
   "cell_type": "code",
   "execution_count": 4,
   "id": "15d0454e-03f9-4b86-8a28-02b3f03d1134",
   "metadata": {
    "scrolled": true
   },
   "outputs": [],
   "source": [
    "\"\"\"\n",
    "This code prints ggH/VBF channel yields after applying category cuts\n",
    "\"\"\"\n",
    "\n",
    "def applyVBF_cutV1(events):\n",
    "    btag_cut =ak.fill_none((events.nBtagLoose_nominal >= 2), value=False) | ak.fill_none((events.nBtagMedium_nominal >= 1), value=False)\n",
    "    vbf_cut = (events.jj_mass_nominal > 400) & (events.jj_dEta_nominal > 2.5) & (events.jet1_pt_nominal > 35) \n",
    "    vbf_cut = ak.fill_none(vbf_cut, value=False)\n",
    "    dimuon_mass = events.dimuon_mass\n",
    "    VBF_filter = (\n",
    "        vbf_cut & \n",
    "        ~btag_cut # btag cut is for VH and ttH categories\n",
    "    )\n",
    "    trues = ak.ones_like(dimuon_mass, dtype=\"bool\")\n",
    "    falses = ak.zeros_like(dimuon_mass, dtype=\"bool\")\n",
    "    events[\"vbf_filter\"] = ak.where(VBF_filter, trues,falses)\n",
    "    return events[VBF_filter]\n",
    "\n",
    "def applyGGH_cutV1(events):\n",
    "    btag_cut =ak.fill_none((events.nBtagLoose_nominal >= 2), value=False) | ak.fill_none((events.nBtagMedium_nominal >= 1), value=False)\n",
    "    vbf_cut = (events.jj_mass_nominal > 400) & (events.jj_dEta_nominal > 2.5) & (events.jet1_pt_nominal > 35) \n",
    "    vbf_cut = ak.fill_none(vbf_cut, value=False)\n",
    "    dimuon_mass = events.dimuon_mass\n",
    "    ggH_filter = (\n",
    "        ~vbf_cut & \n",
    "        ~btag_cut # btag cut is for VH and ttH categories\n",
    "    )\n",
    "    return events[ggH_filter]\n",
    "\n",
    "\n",
    "def applyGGH_NoBtagNjet1(events):\n",
    "    btagLoose_filter = ak.fill_none((events.nBtagLoose_nominal >= 2), value=False)\n",
    "    btagMedium_filter = ak.fill_none((events.nBtagMedium_nominal >= 1), value=False) & ak.fill_none((events.njets_nominal >= 2), value=False)\n",
    "    btag_cut = (btagLoose_filter | btagMedium_filter)\n",
    "    vbf_cut = (events.jj_mass_nominal > 400) & (events.jj_dEta_nominal > 2.5) & (events.jet1_pt_nominal > 35) \n",
    "    vbf_cut = ak.fill_none(vbf_cut, value=False)\n",
    "    ggH_filter = (\n",
    "        ~vbf_cut & \n",
    "        ~btag_cut # btag cut is for VH and ttH categories\n",
    "    )\n",
    "    return events[ggH_filter]\n",
    "\n",
    "def applyGGH_30(events):\n",
    "    btagLoose_filter = ak.fill_none((events.nBtagLoose_nominal >= 2), value=False)\n",
    "    btagMedium_filter = ak.fill_none((events.nBtagMedium_nominal >= 1), value=False) & ak.fill_none((events.njets_nominal >= 2), value=False)\n",
    "    btag_cut = (btagLoose_filter | btagMedium_filter)\n",
    "    vbf_cut = (events.jj_mass_nominal > 400) & (events.jj_dEta_nominal > 2.5) & (events.jet1_pt_nominal > 35)   & (events.jet2_pt_nominal > 30) \n",
    "    vbf_cut = ak.fill_none(vbf_cut, value=False)\n",
    "    jet_30_cut = ak.fill_none((events.jet1_pt_nominal > 30), value=False)\n",
    "    ggH_filter = (\n",
    "        ~vbf_cut \n",
    "        & ~btag_cut # btag cut is for VH and ttH categories\n",
    "    )\n",
    "    return events[ggH_filter]\n",
    "\n",
    "def applyVBF_30(events):\n",
    "    btag_cut =ak.fill_none((events.nBtagLoose_nominal >= 2), value=False) | ak.fill_none((events.nBtagMedium_nominal >= 1), value=False)\n",
    "    vbf_cut = (events.jj_mass_nominal > 400) & (events.jj_dEta_nominal > 2.5) & (events.jet1_pt_nominal > 35)   & (events.jet2_pt_nominal > 30)\n",
    "    vbf_cut = ak.fill_none(vbf_cut, value=False)\n",
    "    dimuon_mass = events.dimuon_mass\n",
    "    VBF_filter = (\n",
    "        vbf_cut & \n",
    "        ~btag_cut # btag cut is for VH and ttH categories\n",
    "    )\n",
    "    trues = ak.ones_like(dimuon_mass, dtype=\"bool\")\n",
    "    falses = ak.zeros_like(dimuon_mass, dtype=\"bool\")\n",
    "    events[\"vbf_filter\"] = ak.where(VBF_filter, trues,falses)\n",
    "    return events[VBF_filter]\n",
    "\n",
    "\n",
    "def applyGGH_cutflow(events):\n",
    "    btagLoose_filter = ak.fill_none((events.nBtagLoose_nominal >= 2), value=False)\n",
    "    btagMedium_filter = ak.fill_none((events.nBtagMedium_nominal >= 1), value=False) & ak.fill_none((events.njets_nominal >= 2), value=False)\n",
    "    btag_cut = btagLoose_filter | btagMedium_filter\n",
    "    vbf_cut = (events.jj_mass_nominal > 400) & (events.jj_dEta_nominal > 2.5) & (events.jet1_pt_nominal > 35) \n",
    "    vbf_cut = ak.fill_none(vbf_cut, value=False)\n",
    "    dimuon_mass = events.dimuon_mass\n",
    "    ggH_filter = (\n",
    "        ~vbf_cut & \n",
    "        ~btag_cut # btag cut is for VH and ttH categories\n",
    "    )\n",
    "    return events[ggH_filter]\n",
    "\n",
    "def applyGGH_noJetPt(events):\n",
    "    btag_cut =ak.fill_none((events.nBtagLoose_nominal >= 2), value=False) | ak.fill_none((events.nBtagMedium_nominal >= 1), value=False)\n",
    "    vbf_cut = (events.jj_mass_nominal > 400) & (events.jj_dEta_nominal > 2.5)\n",
    "    vbf_cut = ak.fill_none(vbf_cut, value=False)\n",
    "    dimuon_mass = events.dimuon_mass\n",
    "    ggH_filter = (\n",
    "        ~vbf_cut & \n",
    "        ~btag_cut # btag cut is for VH and ttH categories\n",
    "    )\n",
    "    return events[ggH_filter]\n",
    "\n",
    "def veto_ttH_VH(events):\n",
    "    btagLoose_filter = ak.fill_none((events.nBtagLoose_nominal >= 2), value=False)\n",
    "    btagMedium_filter = ak.fill_none((events.nBtagMedium_nominal >= 1), value=False) & ak.fill_none((events.njets_nominal >= 2), value=False)\n",
    "    btag_cut = btagLoose_filter | btagMedium_filter\n",
    "    \n",
    "    bool_filter = (\n",
    "        ~btag_cut # btag cut is for VH and ttH categories\n",
    "    )\n",
    "    return events[bool_filter]\n",
    "\n",
    "\n",
    "def veto_nJetGeq3(events):\n",
    "    njet_filter = ak.fill_none((events.njets_nominal <= 2), value=True)\n",
    "    bool_filter = (\n",
    "        njet_filter # btag cut is for VH and ttH categories\n",
    "    )\n",
    "    return events[bool_filter]\n",
    "\n",
    "def filterRegion(events, region=\"h-peak\"):\n",
    "    dimuon_mass = events.dimuon_mass\n",
    "    if region ==\"h-peak\":\n",
    "        region = (dimuon_mass > 115.03) & (dimuon_mass < 135.03)\n",
    "    elif region ==\"h-sidebands\":\n",
    "        region = ((dimuon_mass > 110) & (dimuon_mass < 115.03)) | ((dimuon_mass > 135.03) & (dimuon_mass < 150))\n",
    "    elif region ==\"signal\":\n",
    "        region = (dimuon_mass >= 110) & (dimuon_mass <= 150.0)\n",
    "    elif region ==\"z-peak\":\n",
    "        region = (dimuon_mass >= 70) & (dimuon_mass <= 110.0)\n",
    "    elif region ==\"combined\":\n",
    "        region = (dimuon_mass >= 70) & (dimuon_mass <= 150.0)\n",
    "\n",
    "    # mu1_pt = events.mu1_pt\n",
    "    # mu1ptOfInterest = (mu1_pt > 75) & (mu1_pt < 150.0)\n",
    "    # events = events[region&mu1ptOfInterest]\n",
    "    events = events[region]\n",
    "    return events\n",
    "\n",
    "V1_fields_2compute = [\n",
    "    \"wgt_nominal\",\n",
    "    \"nBtagLoose_nominal\",\n",
    "    \"nBtagMedium_nominal\",\n",
    "    \"mu1_pt\",\n",
    "    \"mu2_pt\",\n",
    "    \"mu1_eta\",\n",
    "    \"mu2_eta\",\n",
    "    \"mu1_phi\",\n",
    "    \"mu2_phi\",\n",
    "    \"dimuon_pt\",\n",
    "    \"dimuon_eta\",\n",
    "    \"dimuon_phi\",\n",
    "    \"dimuon_mass\",\n",
    "    \"jet1_phi_nominal\",\n",
    "    \"jet1_pt_nominal\",\n",
    "    \"jet2_pt_nominal\",\n",
    "    \"jet2_phi_nominal\",\n",
    "    \"jet1_eta_nominal\",\n",
    "    \"jet2_eta_nominal\",\n",
    "    \"jj_mass_nominal\",\n",
    "    \"jj_dEta_nominal\",\n",
    "    # \"region\",\n",
    "    \"event\",\n",
    "    \"njets_nominal\",\n",
    "    # \"run\",\n",
    "    # \"event\",\n",
    "    # \"luminosityBlock\",\n",
    "]\n",
    " \n",
    "#"
   ]
  },
  {
   "cell_type": "code",
   "execution_count": null,
   "id": "bff3cb33-edb6-435d-9644-c10c3fb2b695",
   "metadata": {
    "scrolled": true
   },
   "outputs": [],
   "source": [
    "year = \"2018\"\n",
    "# year=\"*\"\n",
    "# year = \"2017\"\n",
    "# label=\"V2_Jan29_JecOn_TrigMatchFixed_2016UlJetIdFix\"\n",
    "\n",
    "# label=\"DYamcNLO_11Apr2025\"\n",
    "# label=\"UpdatedDY_100_200_CrossSection_24Feb_jetpuidOff\"\n",
    "# label=\"test_test\"\n",
    "# label=\"DYMiNNLO_30Mar2025\"\n",
    "# label=\"DYMiNNLO_11Apr2025\"\n",
    "# label=\"DYMiNNLO_HemVetoOff_17Apr2025\"\n",
    "# label=\"DYMiNNLO_HemVetoOff_18Apr2025_singleMuTrigMatch\"\n",
    "# label=\"jetHornStudy_29Apr2025_JecOnJerOff\"\n",
    "label=\"jetHornStudy_29Apr2025_JecOnJerStrat2_jetHornPtCut50\"\n",
    "\n",
    "# year = \"2022preEE\"\n",
    "# label=\"Run3_nanoAODv12_TEST\"\n",
    "# load_path =f\"/depot/cms/users/yun79/hmm/copperheadV1clean/{label}/stage1_output/{year}/f1_0\"\n",
    "load_path =f\"/depot/cms/users/yun79/hmm/copperheadV1clean/{label}/stage1_output/{year}/*\"\n",
    "\n",
    "\n",
    "\n",
    "label=\"April19_NanoV12_JEROff\"\n",
    "load_path =f\"/depot/cms/users/shar1172/hmm/copperheadV1clean/{label}/stage1_output/{year}/*\"\n",
    "\n",
    "\n",
    "# # events_data = dak.from_parquet(f\"{load_path}/data_D/*.parquet\")\n",
    "# # events_data = dak.from_parquet(f\"{load_path}/data_F/*.parquet\")\n",
    "# # filelist = glob.glob(f\"{load_path}/data_F\")\n",
    "# # filelist = glob.glob(f\"{load_path}/data_*\")\n",
    "filelist = glob.glob(f\"{load_path}/data_*\")\n",
    "# filelist = glob.glob(f\"{load_path}/data_D\")\n",
    "# print(filelist)\n",
    "# filelist = glob.glob(f\"{load_path}/dy*\")\n",
    "total_integral = 0\n",
    "for file in filelist:\n",
    "    print(f\"file: {file}\")\n",
    "    events_data = dak.from_parquet(f\"{file}/*/*.parquet\")\n",
    "    events_data = ak.zip({field: events_data[field] for field in V1_fields_2compute}).compute()\n",
    "    events_data = filterRegion(events_data, region=\"signal\")\n",
    "    # events_data = applyGGH_cutV1(events_data)\n",
    "    # events_data = applyGGH_NoBtagNjet1(events_data)\n",
    "    # events_data = veto_ttH_VH(events_data)\n",
    "    # events_data = applyVBF_cutV1(events_data)\n",
    "    \n",
    "    # events_data = applyGGH_30(events_data)\n",
    "    events_data = applyVBF_30(events_data)\n",
    "    \n",
    "\n",
    "\n",
    "\n",
    "    \n",
    "    # data_yield = ak.sum(events_data.wgt_nominal, axis=0)\n",
    "    wgts = ak.fill_none(events_data.wgt_nominal, value=1.0)\n",
    "    data_yield = ak.sum(wgts)\n",
    "    df = pd.DataFrame({field: ak.fill_none(events_data[field], value=-999.9) for field in events_data.fields})\n",
    "    print(f\"data_yield for {file}: {data_yield}\")\n",
    "    total_integral += data_yield\n",
    "total_integral\n"
   ]
  },
  {
   "cell_type": "code",
   "execution_count": 8,
   "id": "d4bab145-d039-4710-b047-95f8210a6d9f",
   "metadata": {
    "scrolled": true
   },
   "outputs": [
    {
     "name": "stdout",
     "output_type": "stream",
     "text": [
      "[]\n"
     ]
    },
    {
     "data": {
      "text/plain": [
       "0"
      ]
     },
     "execution_count": 8,
     "metadata": {},
     "output_type": "execute_result"
    }
   ],
   "source": [
    "year = \"2017\"\n",
    "# year = \"*\"\n",
    "# year = \"2016\"\n",
    "# label=\"V2_Jan29_JecOn_TrigMatchFixed_2016UlJetIdFix\"\n",
    "# label=\"test_test\"\n",
    "# label=\"DYMiNNLO_30Mar2025\"\n",
    "# label=\"rereco_yun_Dec05_btagSystFixed_JesJerUncOn\"\n",
    "# label=\"test_cutflow\"\n",
    "# label=\"test_cutflow_applyAllMuCorrection_17Apr2025\"\n",
    "# label=\"test_cutflow_applyEcalGapVeto_17Apr2025\"\n",
    "# label=\"test\"\n",
    "label=\"Run2Rereco_synch_Apr23_2025\"\n",
    "label=\"jetHornStudy_29Apr2025_JecOnJerOff\"\n",
    "# year = \"2022preEE\"\n",
    "# label=\"Run3_nanoAODv12_TEST\"\n",
    "load_path =f\"/depot/cms/users/yun79/hmm/copperheadV1clean/{label}/stage1_output/{year}\"\n",
    "# load_path =f\"/depot/cms/users/yun79/hmm/copperheadV1clean/{label}/stage1_output/*\"\n",
    "\n",
    "\n",
    "# # events_data = dak.from_parquet(f\"{load_path}/data_D/*.parquet\")\n",
    "# # events_data = dak.from_parquet(f\"{load_path}/data_F/*.parquet\")\n",
    "# cle# filelist = glob.glob(f\"{load_path}/data_F\")\n",
    "# # filelist = glob.glob(f\"{load_path}/data_*\")\n",
    "# filelist = glob.glob(f\"{load_path}/data_*\")\n",
    "filelist = glob.glob(f\"{load_path}/data_B\")\n",
    "\n",
    "# filelist = glob.glob(f\"{load_path}/dy*\")\n",
    "total_integral = 0\n",
    "for file in filelist:\n",
    "    print(f\"file: {file}\")\n",
    "    events_data = dak.from_parquet(f\"{file}/*.parquet\")\n",
    "    print(events_data.fields)\n",
    "\n",
    "    events_data = ak.zip({field: events_data[field] for field in V1_fields_2compute}).compute()\n",
    "    # events_data = filterRegion(events_data, region=\"signal\")\n",
    "    # events_data = applyGGH_cutV1(events_data)\n",
    "    # events_data = veto_nJetGeq3(events_data)\n",
    "    # events_data = veto_ttH_VH(events_data)\n",
    "    # events_data = applyGGH_new(events_data)\n",
    "    \n",
    "    # print(f\"events_data.jet1_pt_nominal : {events_data.jet1_pt_nominal }\")\n",
    "    # print(f\"events_data.jj_mass_nominal: {events_data.jj_mass_nominal}\")\n",
    "    # print(f\"events_data.jj_dEta_nominal: {events_data.jj_dEta_nominal}\")\n",
    "    # print(f\"events_data.nBtagLoose_nominal: {events_data.nBtagLoose_nominal}\")\n",
    "    # print(f\"events_data.nBtagMedium_nominal: {events_data.nBtagMedium_nominal}\")\n",
    "    # print(f\"events_data.njets_nominal: {events_data.njets_nominal}\")\n",
    "    # print(f\"not btag_cut: {~btag_cut}\")\n",
    "    # print(f\"ggH_filter: {ggH_filter}\")\n",
    "    \n",
    "    \n",
    "    \n",
    "    # events_data = applyGGH_noJetPt(events_data)\n",
    "    # events_data = applyVBF_cutV1(events_data)\n",
    "    # events_data = veto_ttH_VH(events_data)\n",
    "    \n",
    "    \n",
    "    data_yield = ak.num(events_data.dimuon_mass, axis=0)\n",
    "    # wgts = ak.fill_none(events_data.wgt_nominal, value=1.0)\n",
    "    # data_yield = ak.sum(wgts)\n",
    "    df = pd.DataFrame({field: ak.fill_none(events_data[field], value=-999.9) for field in events_data.fields})\n",
    "    print(f\"data_yield for {file}: {data_yield}\")\n",
    "    total_integral += data_yield\n",
    "total_integral\n"
   ]
  },
  {
   "cell_type": "code",
   "execution_count": null,
   "id": "f6b65f71-a4c2-4b27-b667-0b76caed27dc",
   "metadata": {},
   "outputs": [],
   "source": []
  },
  {
   "cell_type": "code",
   "execution_count": null,
   "id": "a0e415df-bace-4dd5-bc04-2ade31dc4151",
   "metadata": {},
   "outputs": [],
   "source": []
  },
  {
   "cell_type": "code",
   "execution_count": 10,
   "id": "e4467764-ecf9-4f37-833c-cdd6f4e12dea",
   "metadata": {},
   "outputs": [
    {
     "data": {
      "text/plain": [
       "np.float64(10.0)"
      ]
     },
     "execution_count": 10,
     "metadata": {},
     "output_type": "execute_result"
    }
   ],
   "source": [
    "ak.max(events_data.njets_nominal)"
   ]
  },
  {
   "cell_type": "code",
   "execution_count": 26,
   "id": "a23a8420-7216-458f-b487-39e8a15e97a3",
   "metadata": {},
   "outputs": [
    {
     "data": {
      "text/html": [
       "<pre>[35.3,\n",
       " 25.6,\n",
       " None,\n",
       " 40.4,\n",
       " None,\n",
       " 32.5,\n",
       " 41.2,\n",
       " None,\n",
       " None,\n",
       " None]\n",
       "-------------------\n",
       "backend: cpu\n",
       "nbytes: 2.0 kB\n",
       "type: 10 * ?float32</pre>"
      ],
      "text/plain": [
       "<Array [35.3, 25.6, None, 40.4, ..., None, None, None] type='10 * ?float32'>"
      ]
     },
     "execution_count": 26,
     "metadata": {},
     "output_type": "execute_result"
    }
   ],
   "source": [
    "events_data.jet1_pt_nominal\n",
    "# events_data.njets_nominal"
   ]
  },
  {
   "cell_type": "code",
   "execution_count": 18,
   "id": "6e934e79-5f3b-46f1-86cb-9e68de1c0a47",
   "metadata": {},
   "outputs": [
    {
     "name": "stdout",
     "output_type": "stream",
     "text": [
      "[True, True, None, None, None, True, ..., None, None, True, True, None, True]\n",
      "[True, True, True, True, True, True, ..., True, True, True, True, True, True]\n"
     ]
    }
   ],
   "source": [
    "print(events_data.njets_nominal[:50] <=2)\n",
    "print(ak.fill_none(events_data.njets_nominal[:50] <=2, value=True))"
   ]
  },
  {
   "cell_type": "code",
   "execution_count": 9,
   "id": "ca3d8d24-a3a6-4f7b-81d0-a1127b3624b8",
   "metadata": {
    "scrolled": true
   },
   "outputs": [],
   "source": [
    "year = \"2018\"\n",
    "# label=\"V2_Jan29_JecOn_TrigMatchFixed_2016UlJetIdFix\"\n",
    "# label=\"DYMiNNLO_30Mar2025\"\n",
    "label=\"jetHornStudy_29Apr2025_JecOnJerOff\"\n",
    "\n",
    "# label=\"test_test\"\n",
    "# year = \"2022preEE\"\n",
    "# label=\"Run3_nanoAODv12_TEST\"\n",
    "load_path =f\"/depot/cms/users/yun79/hmm/copperheadV1clean/{label}/stage1_output/{year}/f1_0\"\n",
    "\n",
    "# filelist = glob.glob(f\"{load_path}/dy*\")\n",
    "filelist = glob.glob(f\"{load_path}/dy_M-50_MiNNLO\")\n",
    "\n",
    "total_integral = 0\n",
    "for file in filelist:\n",
    "    print(f\"file: {file}\")\n",
    "    events_data = dak.from_parquet(f\"{file}/*/*.parquet\")\n",
    "    # events_data = filterRegion(events_data, region=\"signal\")\n",
    "    events_data = filterRegion(events_data, region=\"z-peak\")\n",
    "    wgt = events_data.wgt_nominal.compute()\n",
    "    # print(f\"wgt sum: {wgt}\")\n",
    "    print(f\"wgt sum: {ak.sum(wgt)}\")\n",
    "    comp = ak.ones_like(wgt)\n",
    "    for field in events_data.fields:\n",
    "        if \"separate\" in field:\n",
    "            value = events_data[field].compute()\n",
    "            print(f\"{field} arr: {value}\")\n",
    "            comp = comp*value\n",
    "            # print(f\"{field} curent wgt: {comp}\")\n",
    "    # diff = comp- wgt\n",
    "    # print(f\"comp : {comp}\")\n",
    "    # print(f\"wgt : {wgt}\")\n",
    "    # print(f\"sum wgt : {ak.sum(wgt)}\")\n",
    "    # print(f\"difference : {diff}\")\n",
    "            # print(f\"{field} max val: {ak.max(value)}\")"
   ]
  },
  {
   "cell_type": "code",
   "execution_count": 7,
   "id": "4ed901fc-0eb9-40ba-864b-a03cb4f85926",
   "metadata": {},
   "outputs": [
    {
     "data": {
      "text/plain": [
       "538903354440.0"
      ]
     },
     "execution_count": 7,
     "metadata": {},
     "output_type": "execute_result"
    }
   ],
   "source": [
    "2.36e+03 * 228348879\n",
    "41,158,111.73464724\n",
    "191,709,872"
   ]
  },
  {
   "cell_type": "code",
   "execution_count": null,
   "id": "7e48e582-f154-483e-a7a5-3b3b59a7b90b",
   "metadata": {},
   "outputs": [],
   "source": [
    "2.5292969635125805e+20 "
   ]
  },
  {
   "cell_type": "code",
   "execution_count": 29,
   "id": "23af822f-1632-446d-ab92-3554e0c21a10",
   "metadata": {},
   "outputs": [
    {
     "data": {
      "text/plain": [
       "13492336.522684855"
      ]
     },
     "execution_count": 29,
     "metadata": {},
     "output_type": "execute_result"
    }
   ],
   "source": [
    "wgt_nominal = events_data[\"wgt_nominal\"].compute()\n",
    "ak.sum(wgt_nominal)"
   ]
  },
  {
   "cell_type": "code",
   "execution_count": 30,
   "id": "0810320c-108d-497e-ac0e-78e401ffd1a3",
   "metadata": {},
   "outputs": [
    {
     "data": {
      "text/plain": [
       "13470176.805324513"
      ]
     },
     "execution_count": 30,
     "metadata": {},
     "output_type": "execute_result"
    }
   ],
   "source": [
    "test = wgt_nominal/ events_data[\"separate_wgt_qgl_wgt\"].compute()\n",
    "ak.sum(test)"
   ]
  },
  {
   "cell_type": "code",
   "execution_count": 5,
   "id": "3d3540b8-bead-4079-b9ff-c41f7b8ce9b5",
   "metadata": {
    "scrolled": true
   },
   "outputs": [
    {
     "data": {
      "text/plain": [
       "160148244540.72314"
      ]
     },
     "execution_count": 5,
     "metadata": {},
     "output_type": "execute_result"
    }
   ],
   "source": [
    "gen_wgt = events_data[\"separate_wgt_genWeight\"].compute()\n",
    "ak.sum(gen_wgt)"
   ]
  },
  {
   "cell_type": "code",
   "execution_count": 16,
   "id": "1e156870-92bd-402b-adfe-cedcbd092ed7",
   "metadata": {},
   "outputs": [
    {
     "data": {
      "text/plain": [
       "0.13252662922514083"
      ]
     },
     "execution_count": 16,
     "metadata": {},
     "output_type": "execute_result"
    }
   ],
   "source": [
    "ak.sum(gen_wgt)*7.1e-12"
   ]
  },
  {
   "cell_type": "code",
   "execution_count": 13,
   "id": "524e4f36-5a4f-45dd-8edb-8efa4a89e834",
   "metadata": {},
   "outputs": [
    {
     "data": {
      "text/html": [
       "<pre>[7.1e-12,\n",
       " 7.1e-12,\n",
       " 7.1e-12,\n",
       " 7.1e-12,\n",
       " 7.1e-12,\n",
       " 7.1e-12,\n",
       " 7.1e-12,\n",
       " 7.1e-12,\n",
       " 7.1e-12,\n",
       " 7.1e-12,\n",
       " ...,\n",
       " 7.1e-12,\n",
       " 7.1e-12,\n",
       " 7.1e-12,\n",
       " 7.1e-12,\n",
       " 7.1e-12,\n",
       " 7.1e-12,\n",
       " 7.1e-12,\n",
       " 7.1e-12,\n",
       " 7.1e-12]\n",
       "-----------------------\n",
       "type: 6561742 * float64</pre>"
      ],
      "text/plain": [
       "<Array [7.1e-12, 7.1e-12, ..., 7.1e-12, 7.1e-12] type='6561742 * float64'>"
      ]
     },
     "execution_count": 13,
     "metadata": {},
     "output_type": "execute_result"
    }
   ],
   "source": [
    "events_data[\"separate_wgt_genWeight_normalization\"].compute()"
   ]
  },
  {
   "cell_type": "code",
   "execution_count": 18,
   "id": "45a9335a-da41-4769-bf9e-45dd31f4daf5",
   "metadata": {},
   "outputs": [
    {
     "data": {
      "text/plain": [
       "13492336.522684855"
      ]
     },
     "execution_count": 18,
     "metadata": {},
     "output_type": "execute_result"
    }
   ],
   "source": [
    "ak.sum(events_data[\"wgt_nominal\"].compute())"
   ]
  },
  {
   "cell_type": "code",
   "execution_count": null,
   "id": "b23ee3cc-2c87-4ae8-b781-9dfc9872787f",
   "metadata": {},
   "outputs": [],
   "source": []
  }
 ],
 "metadata": {
  "kernelspec": {
   "display_name": "Python [conda env:coffea_latest]",
   "language": "python",
   "name": "conda-env-coffea_latest-py"
  },
  "language_info": {
   "codemirror_mode": {
    "name": "ipython",
    "version": 3
   },
   "file_extension": ".py",
   "mimetype": "text/x-python",
   "name": "python",
   "nbconvert_exporter": "python",
   "pygments_lexer": "ipython3",
   "version": "3.12.9"
  }
 },
 "nbformat": 4,
 "nbformat_minor": 5
}
