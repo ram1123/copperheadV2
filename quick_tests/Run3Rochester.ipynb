{
 "cells": [
  {
   "cell_type": "code",
   "execution_count": 1,
   "id": "ec46fe2d-577d-4aba-b27f-ada15cb8a2aa",
   "metadata": {},
   "outputs": [
    {
     "name": "stderr",
     "output_type": "stream",
     "text": [
      "/depot/cms/kernels/root632/lib/python3.12/site-packages/coffea/nanoevents/methods/candidate.py:11: FutureWarning: In version 2025.1.0 (target date: 2024-12-31 11:59:59-06:00), this will be an error.\n",
      "To raise these warnings as errors (and get stack traces to find out where they're called), run\n",
      "    import warnings\n",
      "    warnings.filterwarnings(\"error\", module=\"coffea.*\")\n",
      "after the first `import coffea` or use `@pytest.mark.filterwarnings(\"error:::coffea.*\")` in pytest.\n",
      "Issue: coffea.nanoevents.methods.vector will be removed and replaced with scikit-hep vector. Nanoevents schemas internal to coffea will be migrated. Otherwise please consider using that package!.\n",
      "  from coffea.nanoevents.methods import vector\n"
     ]
    }
   ],
   "source": [
    "from coffea.nanoevents import NanoEventsFactory, NanoAODSchema\n",
    "from MuonScaRe import pt_resol, pt_scale, pt_resol_var, pt_scale_var\n",
    "import correctionlib\n",
    "\n",
    "file_dict = {\"root://eos.cms.rcac.purdue.edu:1094//store/data/Run2022C/Muon/NANOAOD/16Dec2023-v1/2550000/019b0054-1684-410d-9fb2-837f92da4956.root\": {\"object_path\": \"Events\", \"steps\": [[0, 10], [10, 20]], \"uuid\": \"b16b5dea-fbcd-11ed-bae7-a2a0b8bcbeef\"}}\n",
    "\n",
    "\n",
    "\n",
    "events_data = NanoEventsFactory.from_root(\n",
    "    file_dict,\n",
    "    schemaclass=NanoAODSchema,\n",
    "    # steps_per_file = 2000,\n",
    "    metadata={\"dataset\": \"DYJets\"},\n",
    "    uproot_options={\"timeout\":2400},\n",
    ").events()\n",
    "\n",
    "# events_data = NanoEventsFactory.from_root(\n",
    "#     'root://cms-xrd-global.cern.ch//store/data/Run2022C/Muon/NANOAOD/\\\n",
    "# 22Sep2023-v1/2520000/393889f7-173f-48ba-ad46-94828a4ee4b2.root',\n",
    "#     schemaclass=NanoAODSchema,\n",
    "# ).events()\n",
    "\n",
    "\n",
    "file_dict = {\"root://eos.cms.rcac.purdue.edu:1094//store/mc/Run3Summer22NanoAODv12/DYto2L-2Jets_MLL-50_0J_TuneCP5_13p6TeV_amcatnloFXFX-pythia8/NANOAODSIM/130X_mcRun3_2022_realistic_v5-v2/2520000/1e9fd5a7-16b9-4dfc-92a1-1b2b03631dde.root\": {\"object_path\": \"Events\", \"steps\": [[0, 10], [10, 20]], \"uuid\": \"b16b5dea-fbcd-11ed-bae7-a2a0b8bcbeef\"}}\n",
    "\n",
    "events_mc = NanoEventsFactory.from_root(\n",
    "    file_dict,\n",
    "    schemaclass=NanoAODSchema,\n",
    "    # steps_per_file = 2000,\n",
    "    metadata={\"dataset\": \"DYJets\"},\n",
    "    uproot_options={\"timeout\":2400},\n",
    ").events()\n",
    "\n",
    "# events_mc = NanoEventsFactory.from_root(\n",
    "#     'root://cms-xrd-global.cern.ch//store/mc/Run3Summer22NanoAODv12/\\\n",
    "# DYto2L-2Jets_MLL-50_TuneCP5_13p6TeV_amcatnloFXFX-pythia8/\\\n",
    "# NANOAODSIM/130X_mcRun3_2022_realistic_v5-v2/40000/4fa63a35-456c-4d69-9400-356033e505f1.root',\n",
    "#     schemaclass=NanoAODSchema,\n",
    "# ).events()\n",
    "\n",
    "cset = correctionlib.CorrectionSet.from_file(\"../data/roch_corr/2022_Summer22.json\")\n",
    "\n"
   ]
  },
  {
   "cell_type": "code",
   "execution_count": 2,
   "id": "f5a1cbd4-c51e-4f1e-b593-75ccca5585c0",
   "metadata": {},
   "outputs": [
    {
     "name": "stdout",
     "output_type": "stream",
     "text": [
      "There are dask.awkward<sum, type=Scalar, dtype=int64> events with muon pt outside of [26,200] GeV. Setting those entries to their initial value.\n",
      "There are dask.awkward<add, type=Scalar, dtype=int64> nan entries in the corrected pt. This might be due to the number of tracker layers hitting boundaries. Setting those entries to their initial value.\n"
     ]
    }
   ],
   "source": [
    "# Data: only scale correction to gen Z peak\n",
    "events_data[\"Muon\", \"ptcorr\"] = pt_scale(\n",
    "    1, # 1 for data, 0 for mc \n",
    "    events_data.Muon.pt, \n",
    "    events_data.Muon.eta, \n",
    "    events_data.Muon.phi, \n",
    "    events_data.Muon.charge, \n",
    "    cset, \n",
    "    nested=True # for awkward arrays. Set False for 1d arrays\n",
    ")"
   ]
  },
  {
   "cell_type": "code",
   "execution_count": 3,
   "id": "2dea5311-cfcb-40ca-8ad2-0654627e8292",
   "metadata": {},
   "outputs": [
    {
     "data": {
      "text/html": [
       "<pre>[[12.3, 5.76, 4.3],\n",
       " [38.2],\n",
       " [33],\n",
       " [40.2],\n",
       " [32.1, 26.8, 10.7],\n",
       " [30.9],\n",
       " [57.7],\n",
       " [45.7],\n",
       " [152, 72.5],\n",
       " [22.6],\n",
       " [32.4],\n",
       " [51.7, 7.36],\n",
       " [29.8, 5.62, 3.28],\n",
       " [37],\n",
       " [28.1],\n",
       " [27.6, 3.97],\n",
       " [39.9, 6.87],\n",
       " [31.6],\n",
       " [6.92, 6.35, 3.29],\n",
       " [31.5]]\n",
       "------------------------\n",
       "type: 20 * var * float64</pre>"
      ],
      "text/plain": [
       "<Array [[12.3, 5.76, 4.3], [38.2], ..., [31.5]] type='20 * var * float64'>"
      ]
     },
     "execution_count": 3,
     "metadata": {},
     "output_type": "execute_result"
    },
    {
     "name": "stderr",
     "output_type": "stream",
     "text": [
      "/depot/cms/kernels/root632/lib/python3.12/site-packages/awkward/_nplikes/array_module.py:251: RuntimeWarning: invalid value encountered in power\n",
      "  return impl(*broadcasted_args, **(kwargs or {}))\n"
     ]
    }
   ],
   "source": [
    "events_data[\"Muon\", \"ptcorr\"].compute()"
   ]
  },
  {
   "cell_type": "code",
   "execution_count": 4,
   "id": "ee0dcc80-bc79-45cf-b443-c056079bfb7c",
   "metadata": {},
   "outputs": [
    {
     "name": "stdout",
     "output_type": "stream",
     "text": [
      "There are dask.awkward<sum, type=Scalar, dtype=int64> events with muon pt outside of [26,200] GeV. Setting those entries to their initial value.\n",
      "There are dask.awkward<add, type=Scalar, dtype=int64> nan entries in the corrected pt. This might be due to the number of tracker layers hitting boundaries. Setting those entries to their initial value.\n",
      "rand_vals: [[], [0.229], [0.447], [], [], [], ..., [], [], [0.709], [], [0.526, 0.145]]\n",
      "nmuons: [0, 1, 1, 0, 0, 0, 0, 0, 2, 1, 2, 0, 2, 0, 1, 0, 0, 1, 0, 2]\n",
      "There are dask.awkward<sum, type=Scalar, dtype=int64> events with muon pt outside of [26,200] GeV. Setting those entries to their initial value.\n",
      "There are dask.awkward<add, type=Scalar, dtype=int64> nan entries in the corrected pt. This might be due to the number of tracker layers hitting boundaries. Setting those entries to their initial value.\n"
     ]
    }
   ],
   "source": [
    "\n",
    "# MC: both scale correction to gen Z peak AND resolution correction to Z width in data\n",
    "events_mc[\"Muon\", \"ptscalecorr\"] = pt_scale(\n",
    "    0, \n",
    "    events_mc.Muon.pt, \n",
    "    events_mc.Muon.eta, \n",
    "    events_mc.Muon.phi, \n",
    "    events_mc.Muon.charge, \n",
    "    cset, \n",
    "    nested=True\n",
    ")\n",
    "\n",
    "events_mc[\"Muon\", \"ptcorr\"] = pt_resol(\n",
    "    events_mc.Muon.ptscalecorr, \n",
    "    events_mc.Muon.eta, \n",
    "    events_mc.Muon.nTrackerLayers, \n",
    "    cset, \n",
    "    nested=True\n",
    ")\n",
    "\n",
    "# # uncertainties\n",
    "# events_mc[\"Muon\", \"ptscalecorr_up\"] = pt_scale_var(\n",
    "#     events_mc.Muon.ptcorr, \n",
    "#     events_mc.Muon.eta, \n",
    "#     events_mc.Muon.phi, \n",
    "#     events_mc.Muon.charge,\n",
    "#     \"up\",\n",
    "#     cset, \n",
    "#     nested=True\n",
    "# )\n",
    "# events_mc[\"Muon\", \"ptscalecorr_dn\"] = pt_scale_var(\n",
    "#     events_mc.Muon.ptcorr, \n",
    "#     events_mc.Muon.eta, \n",
    "#     events_mc.Muon.phi, \n",
    "#     events_mc.Muon.charge,\n",
    "#     \"dn\",\n",
    "#     cset, \n",
    "#     nested=True\n",
    "# )\n",
    "\n",
    "# events_mc[\"Muon\", \"ptcorr_resolup\"] = pt_resol_var(\n",
    "#     events_mc.Muon.ptscalecorr, \n",
    "#     events_mc.Muon.ptcorr, \n",
    "#     events_mc.Muon.eta, \n",
    "#     \"up\",\n",
    "#     cset, \n",
    "#     nested=True\n",
    "# )\n",
    "# events_mc[\"Muon\", \"ptcorr_resoldn\"] = pt_resol_var(\n",
    "#     events_mc.Muon.ptscalecorr, \n",
    "#     events_mc.Muon.ptcorr, \n",
    "#     events_mc.Muon.eta, \n",
    "#     \"dn\",\n",
    "#     cset, \n",
    "#     nested=True\n",
    "# )"
   ]
  },
  {
   "cell_type": "code",
   "execution_count": 5,
   "id": "4d44dbba-1df5-4017-a4a9-30ed7cafb230",
   "metadata": {},
   "outputs": [
    {
     "name": "stdout",
     "output_type": "stream",
     "text": [
      "[[], [3.9], [38.8], [], [], [], [], ..., [9.04], [], [], [3.4], [], [51.6, 36]]\n",
      "[[], [3.9], [38.8], [], [], [], ..., [9.04], [], [], [3.4], [], [51.6, 35.7]]\n"
     ]
    }
   ],
   "source": [
    "print(events_mc[\"Muon\", \"ptscalecorr\"].compute())\n",
    "print(events_mc[\"Muon\", \"ptcorr\"].compute())"
   ]
  },
  {
   "cell_type": "code",
   "execution_count": 9,
   "id": "578d08d8-8b87-4a2c-b6d5-f3383ed4fe5d",
   "metadata": {},
   "outputs": [],
   "source": [
    "# uncertainties\n",
    "events_mc[\"Muon\", \"ptscalecorr_up\"] = pt_scale_var(\n",
    "    events_mc.Muon.ptcorr, \n",
    "    events_mc.Muon.eta, \n",
    "    events_mc.Muon.phi, \n",
    "    events_mc.Muon.charge,\n",
    "    \"up\",\n",
    "    cset, \n",
    "    nested=True\n",
    ")\n",
    "events_mc[\"Muon\", \"ptscalecorr_dn\"] = pt_scale_var(\n",
    "    events_mc.Muon.ptcorr, \n",
    "    events_mc.Muon.eta, \n",
    "    events_mc.Muon.phi, \n",
    "    events_mc.Muon.charge,\n",
    "    \"dn\",\n",
    "    cset, \n",
    "    nested=True\n",
    ")\n",
    "\n",
    "events_mc[\"Muon\", \"ptcorr_resolup\"] = pt_resol_var(\n",
    "    events_mc.Muon.ptscalecorr, \n",
    "    events_mc.Muon.ptcorr, \n",
    "    events_mc.Muon.eta, \n",
    "    \"up\",\n",
    "    cset, \n",
    "    nested=True\n",
    ")\n",
    "events_mc[\"Muon\", \"ptcorr_resoldn\"] = pt_resol_var(\n",
    "    events_mc.Muon.ptscalecorr, \n",
    "    events_mc.Muon.ptcorr, \n",
    "    events_mc.Muon.eta, \n",
    "    \"dn\",\n",
    "    cset, \n",
    "    nested=True\n",
    ")"
   ]
  },
  {
   "cell_type": "code",
   "execution_count": 10,
   "id": "dd932f7a-abcd-46e1-bc5d-1f7e70ed7bb9",
   "metadata": {},
   "outputs": [
    {
     "name": "stdout",
     "output_type": "stream",
     "text": [
      "[[], [3.9], [38.8], [], [], [], ..., [9.04], [], [], [3.4], [], [51.6, 35.7]]\n",
      "[[], [3.9], [38.7], [], [], [], ..., [9.04], [], [], [3.4], [], [51.6, 35.6]]\n",
      "[[], [3.9], [38.8], [], [], [], ..., [9.04], [], [], [3.4], [], [51.6, 35.6]]\n",
      "[[], [3.9], [38.8], [], [], [], ..., [9.04], [], [], [3.4], [], [51.6, 35.7]]\n"
     ]
    }
   ],
   "source": [
    "print(events_mc[\"Muon\", \"ptscalecorr_up\"].compute())\n",
    "print(events_mc[\"Muon\", \"ptscalecorr_dn\"].compute())\n",
    "print(events_mc[\"Muon\", \"ptcorr_resolup\"].compute())\n",
    "print(events_mc[\"Muon\", \"ptcorr_resoldn\"].compute())"
   ]
  },
  {
   "cell_type": "code",
   "execution_count": 6,
   "id": "96843308-c0f9-4637-9a2a-89a0452c0a60",
   "metadata": {},
   "outputs": [
    {
     "data": {
      "text/html": [
       "<pre>[[None, False],\n",
       " [False, False],\n",
       " [False]]\n",
       "---------------------\n",
       "type: 3 * var * ?bool</pre>"
      ],
      "text/plain": [
       "<Array [[None, False], [False, ...], [False]] type='3 * var * ?bool'>"
      ]
     },
     "execution_count": 6,
     "metadata": {},
     "output_type": "execute_result"
    }
   ],
   "source": [
    "import awkward as ak\n",
    "A = ak.Array([[None, 1], [1,2] , [4]])\n",
    "# ak.is_none(A)\n",
    "import numpy as np\n",
    "np.isnan(A)"
   ]
  },
  {
   "cell_type": "code",
   "execution_count": 13,
   "id": "ff0199a0-6c5e-4e0b-a1f1-8e70c890c4b4",
   "metadata": {},
   "outputs": [
    {
     "data": {
      "text/plain": [
       "1"
      ]
     },
     "execution_count": 13,
     "metadata": {},
     "output_type": "execute_result"
    }
   ],
   "source": [
    "is_mc = False\n",
    "data_idx = 0 if is_mc else 1\n",
    "data_idx"
   ]
  },
  {
   "cell_type": "code",
   "execution_count": null,
   "id": "4cdeacef-ca2d-49d7-ae76-54e74208c157",
   "metadata": {},
   "outputs": [],
   "source": []
  }
 ],
 "metadata": {
  "kernelspec": {
   "display_name": "Python [conda env:root632]",
   "language": "python",
   "name": "conda-env-root632-py"
  },
  "language_info": {
   "codemirror_mode": {
    "name": "ipython",
    "version": 3
   },
   "file_extension": ".py",
   "mimetype": "text/x-python",
   "name": "python",
   "nbconvert_exporter": "python",
   "pygments_lexer": "ipython3",
   "version": "3.12.7"
  }
 },
 "nbformat": 4,
 "nbformat_minor": 5
}
