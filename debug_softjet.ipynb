{
 "cells": [
  {
   "cell_type": "code",
   "execution_count": 1,
   "id": "f51d16f7-c773-486b-aac8-5cf50f826136",
   "metadata": {},
   "outputs": [
    {
     "name": "stderr",
     "output_type": "stream",
     "text": [
      "/depot/cms/kernels/coffea_latest/lib/python3.12/site-packages/distributed/node.py:187: UserWarning: Port 8787 is already in use.\n",
      "Perhaps you already have a cluster running?\n",
      "Hosting the HTTP server on port 32881 instead\n",
      "  warnings.warn(\n"
     ]
    }
   ],
   "source": [
    "import dask_awkward as dak\n",
    "import awkward as ak\n",
    "import pandas as pd\n",
    "\n",
    "from distributed import Client\n",
    "import glob\n",
    "import os\n",
    "\n",
    "client =  Client(n_workers=40,  threads_per_worker=1, processes=True, memory_limit='8 GiB')"
   ]
  },
  {
   "cell_type": "raw",
   "id": "2163eae9-57e9-4a51-b273-39e5a7b23414",
   "metadata": {},
   "source": [
    "from modules import selection"
   ]
  },
  {
   "cell_type": "code",
   "execution_count": 3,
   "id": "1d6075a6-6e46-4264-836b-b27535d834a9",
   "metadata": {},
   "outputs": [],
   "source": [
    "inFile = \"/eos/purdue/store/user/rasharma/customNanoAOD_Gautschi_v2/UL2017/VBFHToMuMu_M125_TuneCP5_withDipoleRecoil_13TeV-powheg-pythia8/8996A2F7-0207-6D4B-B4AE-FE0C3C4BFEC1_NanoAOD.root\""
   ]
  },
  {
   "cell_type": "code",
   "execution_count": 14,
   "id": "ca48e377-7732-4e3a-a0b7-e0e0021bbbf5",
   "metadata": {},
   "outputs": [],
   "source": [
    "from coffea.nanoevents import NanoEventsFactory, NanoAODSchema\n",
    "\n",
    "NanoAODSchema.warn_missing_crossrefs = False\n",
    "\n",
    "events = NanoEventsFactory.from_root(\n",
    "    {inFile: \"Events\"},\n",
    "    schemaclass=NanoAODSchema,\n",
    "    metadata={\"dataset\": \"VBFHToMuMu\"},\n",
    ").events()\n",
    "# events = events[:10]"
   ]
  },
  {
   "cell_type": "raw",
   "id": "4d5f3b68-9ad3-4df5-bd78-10a10320015c",
   "metadata": {},
   "source": [
    "events.fields"
   ]
  },
  {
   "cell_type": "raw",
   "id": "63f4b78a-a6ba-47ad-9377-fb1a0eebbe68",
   "metadata": {},
   "source": [
    "events.Jet.fields"
   ]
  },
  {
   "cell_type": "code",
   "execution_count": 15,
   "id": "dad95168-6869-450e-aa16-92a225a652cf",
   "metadata": {},
   "outputs": [],
   "source": [
    "muons = events.Muon\n",
    "nMuons = ak.num(muons)\n",
    "# events = events[nMuons == 2]\n",
    "mu1, mu2 = muons[:, 0], muons[:, 1]\n",
    "\n",
    "# read only 10 events\n",
    "# events = events[:10]"
   ]
  },
  {
   "cell_type": "code",
   "execution_count": 16,
   "id": "f7beee54-704d-4545-9538-3a51c3e2eb89",
   "metadata": {},
   "outputs": [
    {
     "name": "stderr",
     "output_type": "stream",
     "text": [
      "/depot/cms/kernels/coffea_latest/lib/python3.12/site-packages/coffea/nanoevents/schemas/fcc.py:5: FutureWarning: In version 2025.1.0 (target date: 2024-12-31 11:59:59-06:00), this will be an error.\n",
      "To raise these warnings as errors (and get stack traces to find out where they're called), run\n",
      "    import warnings\n",
      "    warnings.filterwarnings(\"error\", module=\"coffea.*\")\n",
      "after the first `import coffea` or use `@pytest.mark.filterwarnings(\"error:::coffea.*\")` in pytest.\n",
      "Issue: coffea.nanoevents.methods.vector will be removed and replaced with scikit-hep vector. Nanoevents schemas internal to coffea will be migrated. Otherwise please consider using that package!.\n",
      "  from coffea.nanoevents.methods import vector\n"
     ]
    },
    {
     "data": {
      "text/html": [
       "<pre>[[63.9, 52.5],\n",
       " [63.9],\n",
       " [63.7, 61.9],\n",
       " [107, 41.5, 35.1],\n",
       " [111, 42.8],\n",
       " [118, 32.2],\n",
       " [268, 24.6, 3.06],\n",
       " [65.2, 34.3],\n",
       " [49],\n",
       " [70.2],\n",
       " ...,\n",
       " [64.7, 32.1],\n",
       " [70.4, 65.4],\n",
       " [77.6, 48.1],\n",
       " [93.6, 85.2, 3.68],\n",
       " [87.3, 45.6],\n",
       " [99.4, 42.8],\n",
       " [75.3, 60.2],\n",
       " [72.1, 25.5],\n",
       " [86, 43.9]]\n",
       "--------------------\n",
       "backend: cpu\n",
       "nbytes: 94.9 kB\n",
       "type: 6000 * var * float32[parameters={&quot;__doc__&quot;: &quot;pt&quot;}]</pre>"
      ],
      "text/plain": [
       "<Array [[63.9, 52.5], [63.9], ..., [86, 43.9]] type='6000 * var * float32[p...'>"
      ]
     },
     "execution_count": 16,
     "metadata": {},
     "output_type": "execute_result"
    }
   ],
   "source": [
    "events.Muon.pt.compute()"
   ]
  },
  {
   "cell_type": "code",
   "execution_count": 17,
   "id": "bb1bed9f-c236-405b-8d2c-ee4f5f0ddb42",
   "metadata": {},
   "outputs": [],
   "source": [
    "jets = events.Jet\n",
    "jet_mask = (jets.pt > 30) & (abs(jets.eta) < 4.7)\n",
    "selected_jets = jets[jet_mask]"
   ]
  },
  {
   "cell_type": "code",
   "execution_count": 18,
   "id": "20de39df-af58-48d6-bf48-75fbc5637194",
   "metadata": {},
   "outputs": [
    {
     "name": "stderr",
     "output_type": "stream",
     "text": [
      "/depot/cms/kernels/coffea_latest/lib/python3.12/site-packages/coffea/nanoevents/schemas/fcc.py:5: FutureWarning: In version 2025.1.0 (target date: 2024-12-31 11:59:59-06:00), this will be an error.\n",
      "To raise these warnings as errors (and get stack traces to find out where they're called), run\n",
      "    import warnings\n",
      "    warnings.filterwarnings(\"error\", module=\"coffea.*\")\n",
      "after the first `import coffea` or use `@pytest.mark.filterwarnings(\"error:::coffea.*\")` in pytest.\n",
      "Issue: coffea.nanoevents.methods.vector will be removed and replaced with scikit-hep vector. Nanoevents schemas internal to coffea will be migrated. Otherwise please consider using that package!.\n",
      "  from coffea.nanoevents.methods import vector\n"
     ]
    },
    {
     "data": {
      "text/html": [
       "<pre>[[83.2, 77.8, 36.7, 32.4, 24.6, 15.3, 15.1],\n",
       " [85.3, 72, 51, 24.5, 24.1, 19.8, 19.2, 16.5, 15.1, 15],\n",
       " [68.1, 67.1, 56.7, 51.1, 21.8, 17.1, 16.4, 15.5],\n",
       " [131, 49.7, 42, 31.2, 30.5, 27.5],\n",
       " [126, 87.2, 83.8, 49.2, 17.1],\n",
       " [124, 117, 66.9, 36.9, 26, 23.1, 19.4, 19],\n",
       " [289, 238, 32.3, 30.5, 24.5, 19.9, 18.3, 17.9, 17.3, 15.7, 15.2],\n",
       " [133, 77.1, 67.2, 41.9, 15.2],\n",
       " [64.9, 38.4, 27.5, 24.1],\n",
       " [83.5, 38.8, 25.4],\n",
       " ...,\n",
       " [75.5, 62.5, 62.4, 58.1, 32.4],\n",
       " [76, 69.9, 25.9, 21.7, 20.4, 20.3, 16.7, 15.8, 15.5],\n",
       " [89.1, 88, 74.9, 59.6, 20.7],\n",
       " [149, 123, 109, 106, 17.2],\n",
       " [98.9, 94.8, 53.5, 51.9, 20.4, 19.6],\n",
       " [146, 108, 58.6, 58.2, 27, 23.6, 23.5, 15.1],\n",
       " [95.4, 80.5, 70.1, 20.4, 17.7, 17.5, 15.7],\n",
       " [154, 81.1, 19.8, 18],\n",
       " [89.7, 61.9, 51.3, 27.6, 23, 20.7, 20.2, 17.9]]\n",
       "------------------------------------------------------------------\n",
       "backend: cpu\n",
       "nbytes: 191.9 kB\n",
       "type: 6000 * var * float32[parameters={&quot;__doc__&quot;: &quot;pt&quot;}]</pre>"
      ],
      "text/plain": [
       "<Array [[83.2, 77.8, ..., 15.3, 15.1], ...] type='6000 * var * float32[para...'>"
      ]
     },
     "execution_count": 18,
     "metadata": {},
     "output_type": "execute_result"
    }
   ],
   "source": [
    "events.Jet.pt.compute()"
   ]
  },
  {
   "cell_type": "code",
   "execution_count": 19,
   "id": "37fe78ab-f140-4a48-b332-1ab5bbeb1a54",
   "metadata": {},
   "outputs": [],
   "source": [
    "# events = events[ak.num(selected_jets) >= 2]\n",
    "\n",
    "# events.Jet.pt.compute()"
   ]
  },
  {
   "cell_type": "code",
   "execution_count": 20,
   "id": "fa983d56-2339-46f3-930c-9acb5a5bb5ec",
   "metadata": {},
   "outputs": [],
   "source": [
    "dr = selected_jets.metric_table(muons)\n",
    "\n",
    "jet_mu_mask = ak.all(dr > 0.4, axis=2)\n",
    "selected_jets = selected_jets[jet_mu_mask]\n",
    "\n",
    "# event_mask = ak.num(selected_jets) >= 2\n",
    "\n",
    "# events = events[ak.num(selected_jets) >= 2 ]\n",
    "# events = events[event_mask]\n",
    "\n",
    "# selected_jets = selected_jets[event_mask]\n",
    "\n",
    "\n",
    "event_mask = (ak.num(muons) == 2) & (ak.num(selected_jets) >= 2)\n",
    "events        = events[event_mask]\n",
    "muons         = muons[event_mask]\n",
    "selected_jets = selected_jets[event_mask]"
   ]
  },
  {
   "cell_type": "code",
   "execution_count": 21,
   "id": "d5b5c26d-807d-43c2-bf33-6be9a6d96386",
   "metadata": {},
   "outputs": [
    {
     "name": "stderr",
     "output_type": "stream",
     "text": [
      "/depot/cms/kernels/coffea_latest/lib/python3.12/site-packages/coffea/nanoevents/schemas/fcc.py:5: FutureWarning: In version 2025.1.0 (target date: 2024-12-31 11:59:59-06:00), this will be an error.\n",
      "To raise these warnings as errors (and get stack traces to find out where they're called), run\n",
      "    import warnings\n",
      "    warnings.filterwarnings(\"error\", module=\"coffea.*\")\n",
      "after the first `import coffea` or use `@pytest.mark.filterwarnings(\"error:::coffea.*\")` in pytest.\n",
      "Issue: coffea.nanoevents.methods.vector will be removed and replaced with scikit-hep vector. Nanoevents schemas internal to coffea will be migrated. Otherwise please consider using that package!.\n",
      "  from coffea.nanoevents.methods import vector\n",
      "/depot/cms/kernels/coffea_latest/lib/python3.12/site-packages/coffea/nanoevents/schemas/fcc.py:5: FutureWarning: In version 2025.1.0 (target date: 2024-12-31 11:59:59-06:00), this will be an error.\n",
      "To raise these warnings as errors (and get stack traces to find out where they're called), run\n",
      "    import warnings\n",
      "    warnings.filterwarnings(\"error\", module=\"coffea.*\")\n",
      "after the first `import coffea` or use `@pytest.mark.filterwarnings(\"error:::coffea.*\")` in pytest.\n",
      "Issue: coffea.nanoevents.methods.vector will be removed and replaced with scikit-hep vector. Nanoevents schemas internal to coffea will be migrated. Otherwise please consider using that package!.\n",
      "  from coffea.nanoevents.methods import vector\n"
     ]
    },
    {
     "data": {
      "text/html": [
       "<pre>[78.2,\n",
       " 60.3,\n",
       " 37.4,\n",
       " 34.4,\n",
       " 32.5,\n",
       " 28.5,\n",
       " 27,\n",
       " 23.7,\n",
       " 21.6,\n",
       " 17.1]\n",
       "------\n",
       "backend: cpu\n",
       "nbytes: 40 B\n",
       "type: 10 * float32[parameters={&quot;__doc__&quot;: &quot;pt&quot;}]</pre>"
      ],
      "text/plain": [
       "<Array [78.2, 60.3, 37.4, ..., 21.6, 17.1] type='10 * float32[parameters={\"...'>"
      ]
     },
     "execution_count": 21,
     "metadata": {},
     "output_type": "execute_result"
    }
   ],
   "source": [
    "events = events[50]\n",
    "events.Jet.pt.compute()"
   ]
  },
  {
   "cell_type": "code",
   "execution_count": 25,
   "id": "c0d95dd8-73e2-43bf-b656-6f8eebb3edd1",
   "metadata": {},
   "outputs": [
    {
     "name": "stderr",
     "output_type": "stream",
     "text": [
      "/depot/cms/kernels/coffea_latest/lib/python3.12/site-packages/coffea/nanoevents/schemas/fcc.py:5: FutureWarning: In version 2025.1.0 (target date: 2024-12-31 11:59:59-06:00), this will be an error.\n",
      "To raise these warnings as errors (and get stack traces to find out where they're called), run\n",
      "    import warnings\n",
      "    warnings.filterwarnings(\"error\", module=\"coffea.*\")\n",
      "after the first `import coffea` or use `@pytest.mark.filterwarnings(\"error:::coffea.*\")` in pytest.\n",
      "Issue: coffea.nanoevents.methods.vector will be removed and replaced with scikit-hep vector. Nanoevents schemas internal to coffea will be migrated. Otherwise please consider using that package!.\n",
      "  from coffea.nanoevents.methods import vector\n"
     ]
    },
    {
     "data": {
      "text/html": [
       "<pre>[69.7,\n",
       " 46.7]\n",
       "------\n",
       "backend: cpu\n",
       "nbytes: 8 B\n",
       "type: 2 * float32[parameters={&quot;__doc__&quot;: &quot;pt&quot;}]</pre>"
      ],
      "text/plain": [
       "<Array [69.7, 46.7] type='2 * float32[parameters={\"__doc__\": \"pt\"}]'>"
      ]
     },
     "execution_count": 25,
     "metadata": {},
     "output_type": "execute_result"
    }
   ],
   "source": [
    "events.Muon.pt.compute()"
   ]
  },
  {
   "cell_type": "code",
   "execution_count": null,
   "id": "c286c67b-dfe2-4fbf-ba8b-f5af7a3afff7",
   "metadata": {},
   "outputs": [],
   "source": []
  },
  {
   "cell_type": "code",
   "execution_count": null,
   "id": "c255bb6c-5cde-48e0-b7f1-bdb2696bfec7",
   "metadata": {},
   "outputs": [],
   "source": []
  },
  {
   "cell_type": "code",
   "execution_count": null,
   "id": "7e3f22bd-f88e-440d-bb9b-2b4453600c8b",
   "metadata": {},
   "outputs": [],
   "source": [
    "saj = events.SoftActivityJet\n",
    "\n",
    "saj_Njets = events[f\"SoftActivityJetNjets2\"]\n",
    "saj_HT = events[f\"SoftActivityJetHT2\"]"
   ]
  },
  {
   "cell_type": "code",
   "execution_count": null,
   "id": "995cf81c-1ced-47fe-9f1c-48b43478b03c",
   "metadata": {},
   "outputs": [],
   "source": [
    "saj_Njets.compute()"
   ]
  },
  {
   "cell_type": "code",
   "execution_count": null,
   "id": "9a7d2b17-872a-4454-9408-d896f473825d",
   "metadata": {},
   "outputs": [],
   "source": [
    "saj_HT.compute()"
   ]
  },
  {
   "cell_type": "code",
   "execution_count": null,
   "id": "e93260c2-de8b-4c45-8bd2-217d2bd1fb3b",
   "metadata": {},
   "outputs": [],
   "source": [
    "saj.pt.compute()"
   ]
  },
  {
   "cell_type": "code",
   "execution_count": null,
   "id": "159a8a6f-08cc-47fb-9866-d46d76f89bff",
   "metadata": {},
   "outputs": [],
   "source": [
    "ak.sum(saj.pt, axis=1).compute()"
   ]
  },
  {
   "cell_type": "code",
   "execution_count": null,
   "id": "e53e5765-91f7-47b7-9dac-9e35f85c6cb9",
   "metadata": {},
   "outputs": [],
   "source": [
    "njets = ak.num(selected_jets, axis=1)\n",
    "padded_jets = ak.pad_none(selected_jets, 2)\n",
    "jet1 = padded_jets[:,0]\n",
    "jet2 = padded_jets[:,1]"
   ]
  },
  {
   "cell_type": "code",
   "execution_count": null,
   "id": "ee3b88d4-9fcd-4e6f-a668-12205be3ad38",
   "metadata": {},
   "outputs": [],
   "source": [
    "print(f\"jets njets: {njets}\")\n",
    "print(f\"jets saj.pt: {saj.pt}\")\n",
    "print(f\"jets jet1.pt: {jet1.pt}\")\n",
    "print(f\"jets jet2.pt: {jet2.pt}\")\n",
    "print(f\"jets mu1.pt: {mu1.pt}\")\n",
    "print(f\"jets mu2.pt: {mu2.pt}\")"
   ]
  },
  {
   "cell_type": "code",
   "execution_count": null,
   "id": "da074d36-ad79-4541-9980-469fa7c300ea",
   "metadata": {},
   "outputs": [],
   "source": [
    "dR_m1 = saj.delta_r(mu1)\n",
    "dR_m2 = saj.delta_r(mu2)\n",
    "dR_j1 = saj.delta_r(jet1)\n",
    "dR_j2 = saj.delta_r(jet2)\n",
    "dR_m1_filter = ak.fill_none((dR_m1 < 0.4), value=False, axis=None)\n",
    "dR_m2_filter = ak.fill_none((dR_m2 < 0.4), value=False, axis=None)\n",
    "dR_j1_filter = ak.fill_none((dR_j1 < 0.4), value=False, axis=None)\n",
    "dR_j2_filter = ak.fill_none((dR_j2 < 0.4), value=False, axis=None)\n",
    "print(f\"jets dR_m1_filter: {dR_m1_filter}\")\n",
    "print(f\"jets dR_m2_filter: {dR_m2_filter}\")\n",
    "print(f\"jets dR_j1_filter: {dR_j1_filter}\")\n",
    "print(f\"jets dR_j2_filter: {dR_j2_filter}\")"
   ]
  },
  {
   "cell_type": "code",
   "execution_count": null,
   "id": "1bf25401-4a3d-43d2-8cf6-9ae466e49431",
   "metadata": {},
   "outputs": [],
   "source": [
    "saj_to_remove = dR_m1_filter | dR_m2_filter | dR_j1_filter | dR_j2_filter\n",
    "saj_to_remove = ak.fill_none(saj_to_remove, value=False)\n",
    "\n",
    "footprint = saj[(saj_to_remove) & (saj.pt > 2)]\n",
    "footprint_sumPt = ak.sum(footprint.pt, axis=1)\n",
    "print(f\"jets saj_to_remove: {saj_to_remove}\")\n",
    "# print(f\"jets footprint_sumPt: {ak.to_numpy(footprint_sumPt)}\")\n",
    "footprint_sumPt.compute()"
   ]
  },
  {
   "cell_type": "code",
   "execution_count": null,
   "id": "e1f71104-f58f-4150-8025-3700aa3fd7ae",
   "metadata": {},
   "outputs": [],
   "source": [
    "ht_corrected = saj_HT - footprint_sumPt\n",
    "footprint_njets = ak.num(footprint, axis=1)\n",
    "corrected_njets = saj_Njets - footprint_njets\n",
    "\n",
    "# print(f\"jets footprint_njets: {ak.to_numpy(footprint_njets)}\")\n",
    "# print(f\"jets corrected_njets: {ak.to_numpy(corrected_njets)}\")\n",
    "print(f\"jets saj_Njets: {saj_Njets}\")"
   ]
  },
  {
   "cell_type": "code",
   "execution_count": null,
   "id": "9da7d168-2fc4-4567-b01e-628ceb36d682",
   "metadata": {},
   "outputs": [],
   "source": []
  }
 ],
 "metadata": {
  "kernelspec": {
   "display_name": "coffea_latest",
   "language": "python",
   "name": "coffea_latest"
  },
  "language_info": {
   "codemirror_mode": {
    "name": "ipython",
    "version": 3
   },
   "file_extension": ".py",
   "mimetype": "text/x-python",
   "name": "python",
   "nbconvert_exporter": "python",
   "pygments_lexer": "ipython3",
   "version": "3.12.11"
  }
 },
 "nbformat": 4,
 "nbformat_minor": 5
}
