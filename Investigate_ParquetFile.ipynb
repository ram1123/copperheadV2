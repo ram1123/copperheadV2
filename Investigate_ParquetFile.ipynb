{
 "cells": [
  {
   "cell_type": "code",
   "execution_count": 1,
   "id": "f9793ef3-d622-4a62-9428-ba663eb1fa0c",
   "metadata": {},
   "outputs": [],
   "source": [
    "import pandas as pd\n",
    "import matplotlib.pyplot as plt"
   ]
  },
  {
   "cell_type": "code",
   "execution_count": 2,
   "id": "581e29ff-d60c-4600-aa2c-2ccc2e2a9733",
   "metadata": {},
   "outputs": [],
   "source": [
    "# Function to investigate the content of a Parquet file\n",
    "def investigate_parquet(file_path):\n",
    "    df = pd.read_parquet(file_path)\n",
    "    \n",
    "    print(\"Basic Information:\")\n",
    "    print(df.info())\n",
    "\n",
    "    print(df.columns)\n",
    "    \n",
    "    # print(\"\\nFirst Few Rows:\")\n",
    "    # print(df.head())\n",
    "    \n",
    "    # print(\"\\nSummary Statistics:\")\n",
    "    # print(df.describe())\n",
    "    return df"
   ]
  },
  {
   "cell_type": "code",
   "execution_count": 3,
   "id": "0360707b-f3a1-4768-b963-1e9d15e9cab9",
   "metadata": {},
   "outputs": [],
   "source": [
    "# Function to plot the distribution of specified columns from a Parquet file\n",
    "def plot_distributions(file_path, columns, bins, range_dict):\n",
    "    # Read the Parquet file into a DataFrame\n",
    "    df = pd.read_parquet(file_path)\n",
    "    \n",
    "    # Plot the distributions\n",
    "    plt.figure(figsize=(12, 8))\n",
    "    \n",
    "    for i, column in enumerate(columns):\n",
    "        plt.subplot(2, 2, i + 1)\n",
    "        # if bins and range_dict not difined take default ones\n",
    "        if column not in bins: \n",
    "            bins[column] = 30\n",
    "            range_dict[column] = (0, 100)\n",
    "        plt.hist(df[column], bins=bins[column], range=range_dict[column])\n",
    "        plt.title(f'Distribution of {column}')\n",
    "    \n",
    "    plt.tight_layout()\n",
    "    plt.show()"
   ]
  },
  {
   "cell_type": "code",
   "execution_count": 4,
   "id": "0aef09cd-210f-4d66-bd05-647f1577c6ea",
   "metadata": {},
   "outputs": [
    {
     "name": "stdout",
     "output_type": "stream",
     "text": [
      "Basic Information:\n",
      "<class 'pandas.core.frame.DataFrame'>\n",
      "RangeIndex: 5 entries, 0 to 4\n",
      "Data columns (total 1 columns):\n",
      " #   Column    Non-Null Count  Dtype\n",
      "---  ------    --------------  -----\n",
      " 0   Muon_eta  5 non-null      int64\n",
      "dtypes: int64(1)\n",
      "memory usage: 172.0 bytes\n",
      "None\n",
      "Index(['Muon_eta'], dtype='object')\n"
     ]
    },
    {
     "data": {
      "text/html": [
       "<div>\n",
       "<style scoped>\n",
       "    .dataframe tbody tr th:only-of-type {\n",
       "        vertical-align: middle;\n",
       "    }\n",
       "\n",
       "    .dataframe tbody tr th {\n",
       "        vertical-align: top;\n",
       "    }\n",
       "\n",
       "    .dataframe thead th {\n",
       "        text-align: right;\n",
       "    }\n",
       "</style>\n",
       "<table border=\"1\" class=\"dataframe\">\n",
       "  <thead>\n",
       "    <tr style=\"text-align: right;\">\n",
       "      <th></th>\n",
       "      <th>Muon_eta</th>\n",
       "    </tr>\n",
       "  </thead>\n",
       "  <tbody>\n",
       "    <tr>\n",
       "      <th>0</th>\n",
       "      <td>2</td>\n",
       "    </tr>\n",
       "    <tr>\n",
       "      <th>1</th>\n",
       "      <td>1</td>\n",
       "    </tr>\n",
       "    <tr>\n",
       "      <th>2</th>\n",
       "      <td>2</td>\n",
       "    </tr>\n",
       "    <tr>\n",
       "      <th>3</th>\n",
       "      <td>1</td>\n",
       "    </tr>\n",
       "    <tr>\n",
       "      <th>4</th>\n",
       "      <td>1</td>\n",
       "    </tr>\n",
       "  </tbody>\n",
       "</table>\n",
       "</div>"
      ],
      "text/plain": [
       "   Muon_eta\n",
       "0         2\n",
       "1         1\n",
       "2         2\n",
       "3         1\n",
       "4         1"
      ]
     },
     "execution_count": 4,
     "metadata": {},
     "output_type": "execute_result"
    }
   ],
   "source": [
    "file_path = \"/depot/cms/private/users/shar1172/copperheadV2/test.parquet\"\n",
    "file_path = \"/depot/cms/private/users/shar1172/copperheadV2/scripts/muon_info.parquet\"\n",
    "file_path = \"/depot/cms/private/users/shar1172/copperheadV2/scripts/test.parquet\"\n",
    "investigate_parquet(file_path)"
   ]
  },
  {
   "cell_type": "code",
   "execution_count": 5,
   "id": "d8c4cdee-5050-41c0-883b-d557705b6654",
   "metadata": {},
   "outputs": [
    {
     "name": "stdout",
     "output_type": "stream",
     "text": [
      "     Entries: 226\n"
     ]
    }
   ],
   "source": [
    "# file_path = '/depot/cms/users/yun79/hmm/copperheadV1clean/DYMiNNLO_30Mar2025/stage1_output/2017/f1_0//data_*/*/*.parquet'\n",
    "file_path = '/depot/cms/users/shar1172/hmm/copperheadV1clean/April19_NanoV12_TightPUID/stage1_output/2018/f1_0/data_A/0/part0691.parquet'\n",
    "file_path = '/depot/cms/users/shar1172/hmm/copperheadV1clean/April19_NanoV12_TightPUID/stage1_output/2018/f1_0/dy_M-50_MiNNLO/0/part1990.parquet'\n",
    "file_path = '/depot/cms/users/shar1172/hmm/copperheadV1clean/April19_NanoV12_TightPUID/stage1_output/2018/f1_0/dy_M-100To200_MiNNLO/0/part000.parquet'\n",
    "# file_path = '/depot/cms/users/shar1172/hmm/copperheadV1clean/April19_NanoV12_TightPUID/stage1_output/2018/f1_0/st_t_antitop/0/part0000.parquet'\n",
    "# file_path = '/depot/cms/users/shar1172/hmm/copperheadV1clean/April19_NanoV12_TightPUID/stage1_output/2018/f1_0/ttjets_dl/0/part0000.parquet'\n",
    "# file_path = '/depot/cms/users/shar1172/hmm/copperheadV1clean/April19_NanoV12_TightPUID/stage1_output/2018/f1_0/ttjets_sl/0/part0000.parquet'\n",
    "# test = investigate_parquet(file_path)\n",
    "\n",
    "import dask_awkward as dak\n",
    "import awkward as ak\n",
    "df = dak.from_parquet(file_path)\n",
    "print(f\"     Entries: {ak.num(df,axis=0).compute()}\")"
   ]
  },
  {
   "cell_type": "code",
   "execution_count": 6,
   "id": "ce6bede9-d0ab-422b-afeb-7c8e8bd5373b",
   "metadata": {},
   "outputs": [
    {
     "name": "stdout",
     "output_type": "stream",
     "text": [
      "Basic Information:\n",
      "<class 'pandas.core.frame.DataFrame'>\n",
      "RangeIndex: 226 entries, 0 to 225\n",
      "Columns: 151 entries, event to fraction\n",
      "dtypes: bool(3), float32(40), float64(96), int32(2), int64(7), uint64(1), uint8(2)\n",
      "memory usage: 221.9 KB\n",
      "None\n",
      "Index(['event', 'PV_npvs', 'PV_npvsGood', 'MET_pt', 'MET_phi', 'MET_sumEt',\n",
      "       'mu1_pt', 'mu1_ptErr', 'mu2_pt', 'mu2_ptErr',\n",
      "       ...\n",
      "       'separate_wgt_muID', 'separate_wgt_muIso', 'separate_wgt_muTrig',\n",
      "       'separate_wgt_LHERen', 'separate_wgt_LHEFac', 'separate_wgt_pdf_2rms',\n",
      "       'separate_wgt_jetpuid_wgt', 'separate_wgt_qgl_wgt',\n",
      "       'separate_wgt_zpt_wgt', 'fraction'],\n",
      "      dtype='object', length=151)\n",
      "['event', 'PV_npvs', 'PV_npvsGood', 'MET_pt', 'MET_phi', 'MET_sumEt', 'mu1_pt', 'mu1_ptErr', 'mu2_pt', 'mu2_ptErr', 'mu1_pt_over_mass', 'mu2_pt_over_mass', 'mu1_eta', 'mu2_eta', 'mu1_phi', 'mu2_phi', 'mu1_charge', 'mu2_charge', 'mu1_iso', 'mu2_iso', 'nmuons', 'dimuon_mass', 'dimuon_pt', 'dimuon_pt_log', 'dimuon_eta', 'dimuon_rapidity', 'dimuon_phi', 'dimuon_dEta', 'dimuon_dPhi', 'dimuon_dR', 'acoplanarity', 'dimuon_ebe_mass_res', 'dimuon_ebe_mass_res_rel', 'uncalibrated_dimuon_ebe_mass_res', 'dimuon_cos_theta_cs', 'dimuon_phi_cs', 'dimuon_cos_theta_eta', 'dimuon_phi_eta', 'mu1_pt_raw', 'mu2_pt_raw', 'mu1_pt_fsr', 'mu2_pt_fsr', 'year', 'gjet1_pt', 'gjet1_eta', 'gjet1_phi', 'gjet1_mass', 'gjet2_pt', 'gjet2_eta', 'gjet2_phi', 'gjet2_mass', 'gjj_pt', 'gjj_eta', 'gjj_phi', 'gjj_mass', 'gjj_dEta', 'gjj_dPhi', 'gjj_dR', 'jet1_pt_nominal', 'jet1_eta_nominal', 'jet1_rapidity_nominal', 'jet1_phi_nominal', 'jet1_qgl_nominal', 'jet1_jetId_nominal', 'jet2_pt_nominal', 'jet2_eta_nominal', 'jet1_mass_nominal', 'jet2_mass_nominal', 'jet1_pt_raw_nominal', 'jet2_pt_raw_nominal', 'jet1_mass_raw_nominal', 'jet2_mass_raw_nominal', 'jet1_rho_nominal', 'jet2_rho_nominal', 'jet1_area_nominal', 'jet2_area_nominal', 'jet1_pt_jec_nominal', 'jet2_pt_jec_nominal', 'jet1_mass_jec_nominal', 'jet2_mass_jec_nominal', 'jet2_rapidity_nominal', 'jet2_phi_nominal', 'jet2_qgl_nominal', 'jet2_jetId_nominal', 'jj_mass_nominal', 'jj_mass_log_nominal', 'jj_pt_nominal', 'jj_eta_nominal', 'jj_phi_nominal', 'jj_dEta_nominal', 'jj_dPhi_nominal', 'mmj1_dEta_nominal', 'mmj1_dPhi_nominal', 'mmj1_dR_nominal', 'mmj2_dEta_nominal', 'mmj2_dPhi_nominal', 'mmj2_dR_nominal', 'mmj_min_dEta_nominal', 'mmj_min_dPhi_nominal', 'mmjj_pt_nominal', 'mmjj_eta_nominal', 'mmjj_phi_nominal', 'mmjj_mass_nominal', 'rpt_nominal', 'pt_centrality_nominal', 'zeppenfeld_nominal', 'll_zstar_log_nominal', 'njets_nominal', 'jet1_pt_gen_nominal', 'jet2_pt_gen_nominal', 'nsoftjets2_nominal', 'htsoft2_nominal', 'nsoftjets5_nominal', 'htsoft5_nominal', 'nBtagLoose_nominal', 'nBtagMedium_nominal', 'z_peak', 'h_sidebands', 'h_peak', 'wgt_nominal', 'wgt_muID_down', 'wgt_pu_wgt_down', 'wgt_muIso_up', 'wgt_muTrig_up', 'wgt_LHERen_up', 'wgt_qgl_wgt_up', 'wgt_LHEFac_down', 'wgt_LHEFac_up', 'wgt_pdf_2rms_down', 'wgt_muIso_down', 'wgt_muID_up', 'wgt_qgl_wgt_down', 'wgt_LHERen_down', 'wgt_muTrig_down', 'wgt_pdf_2rms_up', 'wgt_pu_wgt_up', 'separate_wgt_genWeight', 'separate_wgt_genWeight_normalization', 'separate_wgt_xsec', 'separate_wgt_lumi', 'separate_wgt_pu_wgt', 'separate_wgt_muID', 'separate_wgt_muIso', 'separate_wgt_muTrig', 'separate_wgt_LHERen', 'separate_wgt_LHEFac', 'separate_wgt_pdf_2rms', 'separate_wgt_jetpuid_wgt', 'separate_wgt_qgl_wgt', 'separate_wgt_zpt_wgt', 'fraction']\n"
     ]
    }
   ],
   "source": [
    "# Example usage\n",
    "# file_path = '/depot/cms/users/shar1172/hmm/copperhead_outputs_10Feb/stage1_output/2018/f0_1/data_A/0/part00.parquet'\n",
    "# file_path = '/depot/cms/users/shar1172/hmm/copperhead_outputs_10Feb/stage1_output/2018/f0_1/dy_M-50/0/part00.parquet'\n",
    "\n",
    "# file_path = '/depot/cms/users/shar1172/hmm/copperheadV1clean/Run3_nanoAODv12_BSOff/stage1_output/2022preEE/f1_0/ggh_powhegPS/0/part.0.parquet'\n",
    "# file_path = '/depot/cms/users/shar1172/hmm/copperheadV1clean/Run3_nanoAODv12_BSOff/stage1_output/2022preEE/f1_0/data_C/0/part.337.parquet'\n",
    "# file_path = '/depot/cms/users/shar1172/hmm/copperheadV1clean/DYWithoutLHECut_16Feb_AllYear_UpdatedZptWgt/stage1_output/2018/f1_0//dy_M-50/0/part.382.parquet'\n",
    "# file_path = '/depot/cms/users/shar1172/hmm/copperheadV1clean/March25_NanoAODv9_/stage1_output/2018/f1_0/dy_M-50_MiNNLO/0/part295.parquet'\n",
    "# df_M50 = investigate_parquet(file_path)\n",
    "# \n",
    "# file_path = '/depot/cms/users/shar1172/hmm/copperheadV1clean/March25_NanoAODv9_/stage1_output/2018/f1_0/dy_M-100To200_MiNNLO/0/part15.parquet'\n",
    "df_M100 = investigate_parquet(file_path)\n",
    "print(list(df_M100.columns))"
   ]
  },
  {
   "cell_type": "code",
   "execution_count": 7,
   "id": "359e60aa-a626-4430-a694-2992ed51209a",
   "metadata": {},
   "outputs": [
    {
     "name": "stdout",
     "output_type": "stream",
     "text": [
      "0            NaN\n",
      "1      25.826863\n",
      "2            NaN\n",
      "3            NaN\n",
      "4      31.899052\n",
      "         ...    \n",
      "221          NaN\n",
      "222    27.044189\n",
      "223    36.662978\n",
      "224          NaN\n",
      "225          NaN\n",
      "Name: jet2_pt_nominal, Length: 226, dtype: float64\n"
     ]
    }
   ],
   "source": [
    "# print entries insise \"separate_wgt_xsec\"\n",
    "# print(df_M50[\"separate_wgt_zpt_wgt\"],df_M100[\"separate_wgt_pu_wgt\"])\n",
    "# print(df_M100[\"separate_wgt_pu_wgt\"])\n",
    "print(df_M100[\"jet2_pt_nominal\"])"
   ]
  },
  {
   "cell_type": "code",
   "execution_count": null,
   "id": "52cf3efd-7737-489d-a732-84c06b99acaa",
   "metadata": {},
   "outputs": [],
   "source": [
    "columns = [col for col in df.columns if 'separate' in col]\n",
    "for val in columns:\n",
    "    print(val)"
   ]
  },
  {
   "cell_type": "code",
   "execution_count": null,
   "id": "f7f6e08d-1ca1-4b5d-ace6-9e67aa2faf67",
   "metadata": {},
   "outputs": [],
   "source": [
    "# Example usage\n",
    "# file_path = '/depot/cms/users/shar1172/hmm/copperhead_outputs_10Feb/stage1_output/2018/f0_1/data_A/0/part00.parquet'\n",
    "# file_path = '/depot/cms/users/shar1172/hmm/copperhead_outputs_10Feb/stage1_output/2018/f0_1/dy_M-50/0/part00.parquet'\n",
    "\n",
    "file_path = '/depot/cms/users/shar1172/hmm/copperheadV1clean/Run3_nanoAODv12_BSOn/stage1_output/2022preEE/f1_0/ggh_powhegPS/0/part.0.parquet'\n",
    "df = investigate_parquet(file_path)\n",
    "print(list(df.columns))"
   ]
  },
  {
   "cell_type": "code",
   "execution_count": null,
   "id": "05fa861b-3f44-4c0a-9b46-83dfc27afb73",
   "metadata": {},
   "outputs": [],
   "source": []
  },
  {
   "cell_type": "code",
   "execution_count": 12,
   "id": "6a01d91f-e1b7-4fbb-a723-c63fd8dffce4",
   "metadata": {},
   "outputs": [
    {
     "data": {
      "image/png": "[encoded data removed]",
      "text/plain": [
       "<Figure size 1200x800 with 2 Axes>"
      ]
     },
     "metadata": {},
     "output_type": "display_data"
    }
   ],
   "source": [
    "# Make distribution\n",
    "columns = ['mu1_pt', 'mu2_pt']\n",
    "# columns = ['mu1_pt', 'mu2_pt', 'mu1_pt_over_mass', 'mu2_pt_over_mass']\n",
    "# columns = ['mmj1_dEta_nominal']\n",
    "# columns = ['mu1_ptErr', 'mu2_ptErr']\n",
    "bins = {\n",
    "    'mu1_pt': 50,\n",
    "    'mu2_pt': 50,\n",
    "    'mu1_pt_over_mass': 30,\n",
    "    'mu2_pt_over_mass': 30,\n",
    "    'wgt_separate_zpt_wgt':30,\n",
    "    'wgt_nominal':30,\n",
    "    'mu1_ptErr':50,\n",
    "    'mu2_ptErr':50\n",
    "}\n",
    "range_dict = {\n",
    "    'mu1_pt': (20, 100),\n",
    "    'mu2_pt': (15, 100),\n",
    "    'mu1_pt_over_mass': (0, 1),\n",
    "    'mu2_pt_over_mass': (0, 1),\n",
    "    'wgt_separate_zpt_wgt':(0,1),\n",
    "    'wgt_nominal':(0,100),\n",
    "    'mu1_ptErr':(-1.0,15.0),\n",
    "    'mu2_ptErr':(-1.0,15.0),\n",
    "}\n",
    "plot_distributions(file_path, columns, bins, range_dict)"
   ]
  },
  {
   "cell_type": "code",
   "execution_count": null,
   "id": "ef1eb999-ba92-435d-8a54-5ed9472198e6",
   "metadata": {},
   "outputs": [],
   "source": [
    "!pwd"
   ]
  },
  {
   "cell_type": "markdown",
   "id": "f42a7546-8527-4123-b10d-bf80d866a7f7",
   "metadata": {},
   "source": [
    "# Get Number of entries"
   ]
  },
  {
   "cell_type": "code",
   "execution_count": 2,
   "id": "4bcee911-c787-400d-9571-506ded26cb88",
   "metadata": {},
   "outputs": [],
   "source": [
    "# Ram\n",
    "sample_path = \"/depot/cms/users/shar1172/hmm/copperheadV1clean/March25_NanoAODv9_/stage1_output/2018/f1_0/\"\n",
    "Sampellist = [\"dy_M-100To200\", \"dy_M-100To200_MiNNLO\", \"dy_M-50\", \"dy_M-50_MiNNLO\"]"
   ]
  },
  {
   "cell_type": "code",
   "execution_count": 5,
   "id": "c6091de4-1657-4f8a-9d5a-f640f0091e81",
   "metadata": {},
   "outputs": [],
   "source": [
    "# Hyeon\n",
    "sample_path = \"/depot/cms/users/yun79/hmm/copperheadV1clean/DYMiNNLO_jetpuidOff_newZptWgt25Mar2025/stage1_output/2018/f1_0/\"\n",
    "Sampellist = [\"dy_M-100To200_MiNNLO\", \"dy_M-50_MiNNLO\", \"dy_M-50_MiNNLO_V2\"]"
   ]
  },
  {
   "cell_type": "code",
   "execution_count": 4,
   "id": "57ca5611-e988-4a8e-bd7a-1158d6e04ed9",
   "metadata": {},
   "outputs": [
    {
     "name": "stdout",
     "output_type": "stream",
     "text": [
      "===> Sample name: dy_M-100To200\n",
      "     path: /depot/cms/users/shar1172/hmm/copperheadV1clean/March25_NanoAODv9_/stage1_output/2018/f1_0//dy_M-100To200/*/*.parquet\n",
      "     Entries: 30307695\n",
      "===> Sample name: dy_M-100To200_MiNNLO\n",
      "     path: /depot/cms/users/shar1172/hmm/copperheadV1clean/March25_NanoAODv9_/stage1_output/2018/f1_0//dy_M-100To200_MiNNLO/*/*.parquet\n",
      "     Entries: 1968035\n",
      "===> Sample name: dy_M-50\n",
      "     path: /depot/cms/users/shar1172/hmm/copperheadV1clean/March25_NanoAODv9_/stage1_output/2018/f1_0//dy_M-50/*/*.parquet\n",
      "     Entries: 22497742\n",
      "===> Sample name: dy_M-50_MiNNLO\n",
      "     path: /depot/cms/users/shar1172/hmm/copperheadV1clean/March25_NanoAODv9_/stage1_output/2018/f1_0//dy_M-50_MiNNLO/*/*.parquet\n",
      "     Entries: 79837361\n"
     ]
    }
   ],
   "source": [
    "import dask_awkward as dak\n",
    "import awkward as ak\n",
    "for sample in Sampellist:\n",
    "    df = dak.from_parquet(f\"{sample_path}/{sample}/*/*.parquet\")\n",
    "    print(f\"===> Sample name: {sample}\")\n",
    "    print(f\"     path: {sample_path}/{sample}/*/*.parquet\")        \n",
    "    print(f\"     Entries: {ak.num(df,axis=0).compute()}\")"
   ]
  },
  {
   "cell_type": "code",
   "execution_count": 6,
   "id": "1a38f479-82b3-482a-8d4a-afddfcf8dad5",
   "metadata": {},
   "outputs": [
    {
     "name": "stdout",
     "output_type": "stream",
     "text": [
      "===> Sample name: dy_M-100To200_MiNNLO\n",
      "     path: /depot/cms/users/yun79/hmm/copperheadV1clean/DYMiNNLO_jetpuidOff_newZptWgt25Mar2025/stage1_output/2018/f1_0//dy_M-100To200_MiNNLO/*/*.parquet\n",
      "     Entries: 1965239\n",
      "===> Sample name: dy_M-50_MiNNLO\n",
      "     path: /depot/cms/users/yun79/hmm/copperheadV1clean/DYMiNNLO_jetpuidOff_newZptWgt25Mar2025/stage1_output/2018/f1_0//dy_M-50_MiNNLO/*/*.parquet\n",
      "     Entries: 79613443\n",
      "===> Sample name: dy_M-50_MiNNLO_V2\n",
      "     path: /depot/cms/users/yun79/hmm/copperheadV1clean/DYMiNNLO_jetpuidOff_newZptWgt25Mar2025/stage1_output/2018/f1_0//dy_M-50_MiNNLO_V2/*/*.parquet\n",
      "     Entries: 31092688\n"
     ]
    }
   ],
   "source": [
    "import dask_awkward as dak\n",
    "import awkward as ak\n",
    "for sample in Sampellist:\n",
    "    df = dak.from_parquet(f\"{sample_path}/{sample}/*/*.parquet\")\n",
    "    print(f\"===> Sample name: {sample}\")\n",
    "    print(f\"     path: {sample_path}/{sample}/*/*.parquet\")        \n",
    "    print(f\"     Entries: {ak.num(df,axis=0).compute()}\")"
   ]
  },
  {
   "cell_type": "code",
   "execution_count": null,
   "id": "cad6fcb7-e22c-49a4-92a2-2bbc75b38747",
   "metadata": {},
   "outputs": [],
   "source": []
  }
 ],
 "metadata": {
  "kernelspec": {
   "display_name": "coffea_latest",
   "language": "python",
   "name": "coffea_latest"
  },
  "language_info": {
   "codemirror_mode": {
    "name": "ipython",
    "version": 3
   },
   "file_extension": ".py",
   "mimetype": "text/x-python",
   "name": "python",
   "nbconvert_exporter": "python",
   "pygments_lexer": "ipython3",
   "version": "3.12.9"
  }
 },
 "nbformat": 4,
 "nbformat_minor": 5
}
