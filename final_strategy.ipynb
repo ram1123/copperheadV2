{
 "cells": [
  {
   "cell_type": "code",
   "execution_count": 1,
   "id": "3671dc8c-43a2-43e6-b05d-58c0e6410a46",
   "metadata": {},
   "outputs": [
    {
     "name": "stderr",
     "output_type": "stream",
     "text": [
      "/depot/cms/kernels/coffea_latest/lib/python3.12/site-packages/distributed/node.py:187: UserWarning: Port 8787 is already in use.\n",
      "Perhaps you already have a cluster running?\n",
      "Hosting the HTTP server on port 43859 instead\n",
      "  warnings.warn(\n"
     ]
    }
   ],
   "source": [
    "import dask_awkward as dak\n",
    "import awkward as ak\n",
    "import pandas as pd\n",
    "\n",
    "from distributed import Client\n",
    "import glob\n",
    "import os\n",
    "\n",
    "client =  Client(n_workers=40,  threads_per_worker=1, processes=True, memory_limit='8 GiB')"
   ]
  },
  {
   "cell_type": "code",
   "execution_count": 2,
   "id": "adc139cb-1334-489a-b6cf-67b23eb2d7db",
   "metadata": {},
   "outputs": [],
   "source": [
    "inFile = \"/eos/purdue/store/user/rasharma/customNanoAOD_Gautschi_v2/UL2017/VBFHToMuMu_M125_TuneCP5_withDipoleRecoil_13TeV-powheg-pythia8/8996A2F7-0207-6D4B-B4AE-FE0C3C4BFEC1_NanoAOD.root\""
   ]
  },
  {
   "cell_type": "code",
   "execution_count": 3,
   "id": "8c5aea8a-7d3a-44de-b790-41c130d0ea6c",
   "metadata": {},
   "outputs": [
    {
     "name": "stderr",
     "output_type": "stream",
     "text": [
      "/depot/cms/kernels/coffea_latest/lib/python3.12/site-packages/coffea/nanoevents/schemas/fcc.py:5: FutureWarning: In version 2025.1.0 (target date: 2024-12-31 11:59:59-06:00), this will be an error.\n",
      "To raise these warnings as errors (and get stack traces to find out where they're called), run\n",
      "    import warnings\n",
      "    warnings.filterwarnings(\"error\", module=\"coffea.*\")\n",
      "after the first `import coffea` or use `@pytest.mark.filterwarnings(\"error:::coffea.*\")` in pytest.\n",
      "Issue: coffea.nanoevents.methods.vector will be removed and replaced with scikit-hep vector. Nanoevents schemas internal to coffea will be migrated. Otherwise please consider using that package!.\n",
      "  from coffea.nanoevents.methods import vector\n",
      "/depot/cms/kernels/coffea_latest/lib/python3.12/site-packages/coffea/nanoevents/schemas/fcc.py:5: FutureWarning: In version 2025.1.0 (target date: 2024-12-31 11:59:59-06:00), this will be an error.\n",
      "To raise these warnings as errors (and get stack traces to find out where they're called), run\n",
      "    import warnings\n",
      "    warnings.filterwarnings(\"error\", module=\"coffea.*\")\n",
      "after the first `import coffea` or use `@pytest.mark.filterwarnings(\"error:::coffea.*\")` in pytest.\n",
      "Issue: coffea.nanoevents.methods.vector will be removed and replaced with scikit-hep vector. Nanoevents schemas internal to coffea will be migrated. Otherwise please consider using that package!.\n",
      "  from coffea.nanoevents.methods import vector\n"
     ]
    }
   ],
   "source": [
    "from coffea.nanoevents import NanoEventsFactory, NanoAODSchema\n",
    "\n",
    "NanoAODSchema.warn_missing_crossrefs = False\n",
    "\n",
    "events = NanoEventsFactory.from_root(\n",
    "    {inFile: \"Events\"},\n",
    "    schemaclass=NanoAODSchema,\n",
    "    metadata={\"dataset\": \"VBFHToMuMu\"},\n",
    ").events()\n",
    "events = events[:100]"
   ]
  },
  {
   "cell_type": "code",
   "execution_count": 4,
   "id": "092f590f-0b07-4d54-a57e-eeb9193afe84",
   "metadata": {},
   "outputs": [],
   "source": [
    "muons = events.Muon\n",
    "nMuons = ak.num(muons)"
   ]
  },
  {
   "cell_type": "code",
   "execution_count": 5,
   "id": "52e74962-3d20-4b04-ab4a-d36be9ca7f5e",
   "metadata": {},
   "outputs": [],
   "source": [
    "jets = events.Jet\n",
    "jet_mask = (jets.pt > 30) & (abs(jets.eta) < 4.7)\n",
    "selected_jets = jets[jet_mask]"
   ]
  },
  {
   "cell_type": "code",
   "execution_count": 6,
   "id": "5cab12b4-cf5d-4317-888b-c5e5f8b54c74",
   "metadata": {},
   "outputs": [],
   "source": [
    "dr = selected_jets.metric_table(muons)\n",
    "\n",
    "jet_mu_mask = ak.all(dr > 0.4, axis=2)\n",
    "selected_jets = selected_jets[jet_mu_mask]\n",
    "nJets = ak.num(selected_jets)"
   ]
  },
  {
   "cell_type": "code",
   "execution_count": 7,
   "id": "28303266-3bb6-4a39-aa09-5fa405d325eb",
   "metadata": {},
   "outputs": [],
   "source": [
    "event_mask = (nMuons == 2) & (nJets >= 2)  \n",
    "events        = events[event_mask]"
   ]
  },
  {
   "cell_type": "code",
   "execution_count": 8,
   "id": "425a9353-9d81-4731-95e9-3594886f3524",
   "metadata": {},
   "outputs": [
    {
     "name": "stderr",
     "output_type": "stream",
     "text": [
      "/depot/cms/kernels/coffea_latest/lib/python3.12/site-packages/coffea/nanoevents/schemas/fcc.py:5: FutureWarning: In version 2025.1.0 (target date: 2024-12-31 11:59:59-06:00), this will be an error.\n",
      "To raise these warnings as errors (and get stack traces to find out where they're called), run\n",
      "    import warnings\n",
      "    warnings.filterwarnings(\"error\", module=\"coffea.*\")\n",
      "after the first `import coffea` or use `@pytest.mark.filterwarnings(\"error:::coffea.*\")` in pytest.\n",
      "Issue: coffea.nanoevents.methods.vector will be removed and replaced with scikit-hep vector. Nanoevents schemas internal to coffea will be migrated. Otherwise please consider using that package!.\n",
      "  from coffea.nanoevents.methods import vector\n",
      "/depot/cms/kernels/coffea_latest/lib/python3.12/site-packages/coffea/nanoevents/schemas/fcc.py:5: FutureWarning: In version 2025.1.0 (target date: 2024-12-31 11:59:59-06:00), this will be an error.\n",
      "To raise these warnings as errors (and get stack traces to find out where they're called), run\n",
      "    import warnings\n",
      "    warnings.filterwarnings(\"error\", module=\"coffea.*\")\n",
      "after the first `import coffea` or use `@pytest.mark.filterwarnings(\"error:::coffea.*\")` in pytest.\n",
      "Issue: coffea.nanoevents.methods.vector will be removed and replaced with scikit-hep vector. Nanoevents schemas internal to coffea will be migrated. Otherwise please consider using that package!.\n",
      "  from coffea.nanoevents.methods import vector\n"
     ]
    },
    {
     "data": {
      "text/html": [
       "<pre>[[63.7, 61.9],\n",
       " [111, 42.8],\n",
       " [118, 32.2],\n",
       " [65.2, 34.3],\n",
       " [65.4, 29.3],\n",
       " [97.8, 26.4],\n",
       " [85.3, 39.3],\n",
       " [51.2, 24.3],\n",
       " [108, 42.7],\n",
       " [62.7, 56.1]]\n",
       "--------------\n",
       "backend: cpu\n",
       "nbytes: 520 B\n",
       "type: 10 * var * float32[parameters={&quot;__doc__&quot;: &quot;pt&quot;}]</pre>"
      ],
      "text/plain": [
       "<Array [[63.7, 61.9], [...], ..., [62.7, 56.1]] type='10 * var * float32[pa...'>"
      ]
     },
     "execution_count": 8,
     "metadata": {},
     "output_type": "execute_result"
    }
   ],
   "source": [
    "events[:10].Muon.pt.compute()"
   ]
  },
  {
   "cell_type": "code",
   "execution_count": 9,
   "id": "593c25c2-d899-4cd9-9095-0c713d524217",
   "metadata": {},
   "outputs": [
    {
     "name": "stderr",
     "output_type": "stream",
     "text": [
      "/depot/cms/kernels/coffea_latest/lib/python3.12/site-packages/coffea/nanoevents/schemas/fcc.py:5: FutureWarning: In version 2025.1.0 (target date: 2024-12-31 11:59:59-06:00), this will be an error.\n",
      "To raise these warnings as errors (and get stack traces to find out where they're called), run\n",
      "    import warnings\n",
      "    warnings.filterwarnings(\"error\", module=\"coffea.*\")\n",
      "after the first `import coffea` or use `@pytest.mark.filterwarnings(\"error:::coffea.*\")` in pytest.\n",
      "Issue: coffea.nanoevents.methods.vector will be removed and replaced with scikit-hep vector. Nanoevents schemas internal to coffea will be migrated. Otherwise please consider using that package!.\n",
      "  from coffea.nanoevents.methods import vector\n"
     ]
    },
    {
     "data": {
      "text/html": [
       "<pre>[[68.1, 67.1, 56.7, 51.1, 21.8, 17.1, 16.4, 15.5],\n",
       " [126, 87.2, 83.8, 49.2, 17.1],\n",
       " [124, 117, 66.9, 36.9, 26, 23.1, 19.4, 19],\n",
       " [133, 77.1, 67.2, 41.9, 15.2],\n",
       " [83.4, 55.4, 44.8, 31.9, 21.2, 17.6, 15.8],\n",
       " [115, 97.6, 45.3, 27.8, 15.8],\n",
       " [106, 92.4, 80.9, 46, 18.3, 17.6, 16.6, 16.4, 15.5],\n",
       " [57.9, 55.5, 51.9, 26.9, 18.3],\n",
       " [129, 97.8, 58.8, 50.1, 19.6],\n",
       " [73.7, 60.1, 45.5, 43.7, 20.8]]\n",
       "-----------------------------------------------------\n",
       "backend: cpu\n",
       "nbytes: 984 B\n",
       "type: 10 * var * float32[parameters={&quot;__doc__&quot;: &quot;pt&quot;}]</pre>"
      ],
      "text/plain": [
       "<Array [[68.1, 67.1, ..., 16.4, 15.5], ...] type='10 * var * float32[parame...'>"
      ]
     },
     "execution_count": 9,
     "metadata": {},
     "output_type": "execute_result"
    }
   ],
   "source": [
    "events[:10].Jet.pt.compute()"
   ]
  },
  {
   "cell_type": "code",
   "execution_count": 10,
   "id": "a68924e7-fe08-4719-928f-2691922bf15b",
   "metadata": {},
   "outputs": [
    {
     "name": "stderr",
     "output_type": "stream",
     "text": [
      "/depot/cms/kernels/coffea_latest/lib/python3.12/site-packages/coffea/nanoevents/schemas/fcc.py:5: FutureWarning: In version 2025.1.0 (target date: 2024-12-31 11:59:59-06:00), this will be an error.\n",
      "To raise these warnings as errors (and get stack traces to find out where they're called), run\n",
      "    import warnings\n",
      "    warnings.filterwarnings(\"error\", module=\"coffea.*\")\n",
      "after the first `import coffea` or use `@pytest.mark.filterwarnings(\"error:::coffea.*\")` in pytest.\n",
      "Issue: coffea.nanoevents.methods.vector will be removed and replaced with scikit-hep vector. Nanoevents schemas internal to coffea will be migrated. Otherwise please consider using that package!.\n",
      "  from coffea.nanoevents.methods import vector\n",
      "/depot/cms/kernels/coffea_latest/lib/python3.12/site-packages/coffea/nanoevents/schemas/fcc.py:5: FutureWarning: In version 2025.1.0 (target date: 2024-12-31 11:59:59-06:00), this will be an error.\n",
      "To raise these warnings as errors (and get stack traces to find out where they're called), run\n",
      "    import warnings\n",
      "    warnings.filterwarnings(\"error\", module=\"coffea.*\")\n",
      "after the first `import coffea` or use `@pytest.mark.filterwarnings(\"error:::coffea.*\")` in pytest.\n",
      "Issue: coffea.nanoevents.methods.vector will be removed and replaced with scikit-hep vector. Nanoevents schemas internal to coffea will be migrated. Otherwise please consider using that package!.\n",
      "  from coffea.nanoevents.methods import vector\n"
     ]
    },
    {
     "data": {
      "text/html": [
       "<pre>[[56.7, 51.1],\n",
       " [87.2, 83.8],\n",
       " [117, 66.9],\n",
       " [133, 67.2],\n",
       " [55.4, 44.8],\n",
       " [97.6, 45.3],\n",
       " [92.4, 80.9],\n",
       " [55.5, 51.9],\n",
       " [97.8, 58.8],\n",
       " [45.5, 43.7]]\n",
       "--------------\n",
       "backend: cpu\n",
       "nbytes: 1.1 kB\n",
       "type: 10 * var * float32[parameters={&quot;__doc__&quot;: &quot;pt&quot;}]</pre>"
      ],
      "text/plain": [
       "<Array [[56.7, 51.1], [...], ..., [45.5, 43.7]] type='10 * var * float32[pa...'>"
      ]
     },
     "execution_count": 10,
     "metadata": {},
     "output_type": "execute_result"
    }
   ],
   "source": [
    "selected_jets = selected_jets[event_mask]\n",
    "selected_jets[:10].pt.compute()"
   ]
  },
  {
   "cell_type": "code",
   "execution_count": 11,
   "id": "f08985d7-e70a-4ccc-8ef5-f7a3a8ae73c3",
   "metadata": {},
   "outputs": [
    {
     "name": "stderr",
     "output_type": "stream",
     "text": [
      "/depot/cms/kernels/coffea_latest/lib/python3.12/site-packages/coffea/nanoevents/schemas/fcc.py:5: FutureWarning: In version 2025.1.0 (target date: 2024-12-31 11:59:59-06:00), this will be an error.\n",
      "To raise these warnings as errors (and get stack traces to find out where they're called), run\n",
      "    import warnings\n",
      "    warnings.filterwarnings(\"error\", module=\"coffea.*\")\n",
      "after the first `import coffea` or use `@pytest.mark.filterwarnings(\"error:::coffea.*\")` in pytest.\n",
      "Issue: coffea.nanoevents.methods.vector will be removed and replaced with scikit-hep vector. Nanoevents schemas internal to coffea will be migrated. Otherwise please consider using that package!.\n",
      "  from coffea.nanoevents.methods import vector\n",
      "/depot/cms/kernels/coffea_latest/lib/python3.12/site-packages/coffea/nanoevents/schemas/fcc.py:5: FutureWarning: In version 2025.1.0 (target date: 2024-12-31 11:59:59-06:00), this will be an error.\n",
      "To raise these warnings as errors (and get stack traces to find out where they're called), run\n",
      "    import warnings\n",
      "    warnings.filterwarnings(\"error\", module=\"coffea.*\")\n",
      "after the first `import coffea` or use `@pytest.mark.filterwarnings(\"error:::coffea.*\")` in pytest.\n",
      "Issue: coffea.nanoevents.methods.vector will be removed and replaced with scikit-hep vector. Nanoevents schemas internal to coffea will be migrated. Otherwise please consider using that package!.\n",
      "  from coffea.nanoevents.methods import vector\n"
     ]
    },
    {
     "data": {
      "text/html": [
       "<pre>[[63.7, 61.9],\n",
       " [111, 42.8],\n",
       " [118, 32.2],\n",
       " [65.2, 34.3],\n",
       " [65.4, 29.3],\n",
       " [97.8, 26.4],\n",
       " [85.3, 39.3],\n",
       " [51.2, 24.3],\n",
       " [108, 42.7],\n",
       " [62.7, 56.1]]\n",
       "--------------\n",
       "backend: cpu\n",
       "nbytes: 520 B\n",
       "type: 10 * var * float32[parameters={&quot;__doc__&quot;: &quot;pt&quot;}]</pre>"
      ],
      "text/plain": [
       "<Array [[63.7, 61.9], [...], ..., [62.7, 56.1]] type='10 * var * float32[pa...'>"
      ]
     },
     "execution_count": 11,
     "metadata": {},
     "output_type": "execute_result"
    }
   ],
   "source": [
    "muons = muons[event_mask]\n",
    "muons[:10].pt.compute()"
   ]
  },
  {
   "cell_type": "code",
   "execution_count": 12,
   "id": "7697ddd6-fef7-44c4-b03f-f18134af96ef",
   "metadata": {},
   "outputs": [],
   "source": [
    "mu1, mu2 = muons[:, 0], muons[:, 1]"
   ]
  },
  {
   "cell_type": "code",
   "execution_count": 13,
   "id": "559852ad-592b-4140-a321-582663d98fa7",
   "metadata": {},
   "outputs": [],
   "source": [
    "njets = ak.num(selected_jets, axis=1)\n",
    "padded_jets = ak.pad_none(selected_jets, 2)\n",
    "jet1 = padded_jets[:,0]\n",
    "jet2 = padded_jets[:,1]"
   ]
  },
  {
   "cell_type": "code",
   "execution_count": 15,
   "id": "6eeaf959-7a2d-4ac4-a343-7d2f500ceecc",
   "metadata": {},
   "outputs": [
    {
     "name": "stdout",
     "output_type": "stream",
     "text": [
      "jets dR_m1_filter: dask.awkward<fill-none, npartitions=1>\n",
      "jets dR_m2_filter: dask.awkward<fill-none, npartitions=1>\n",
      "jets dR_j1_filter: dask.awkward<fill-none, npartitions=1>\n",
      "jets dR_j2_filter: dask.awkward<fill-none, npartitions=1>\n"
     ]
    }
   ],
   "source": [
    "new_events = events\n",
    "saj = new_events.SoftActivityJet\n",
    "\n",
    "dR_m1 = saj.delta_r(mu1)\n",
    "dR_m2 = saj.delta_r(mu2)\n",
    "dR_j1 = saj.delta_r(jet1)\n",
    "dR_j2 = saj.delta_r(jet2)\n",
    "dR_m1_filter = ak.fill_none((dR_m1 > 0.4), value=True, axis=None)\n",
    "dR_m2_filter = ak.fill_none((dR_m2 > 0.4), value=True, axis=None)\n",
    "dR_j1_filter = ak.fill_none((dR_j1 > 0.4), value=True, axis=None)\n",
    "dR_j2_filter = ak.fill_none((dR_j2 > 0.4), value=True, axis=None)\n",
    "print(f\"jets dR_m1_filter: {dR_m1_filter}\")\n",
    "print(f\"jets dR_m2_filter: {dR_m2_filter}\")\n",
    "print(f\"jets dR_j1_filter: {dR_j1_filter}\")\n",
    "print(f\"jets dR_j2_filter: {dR_j2_filter}\")"
   ]
  },
  {
   "cell_type": "code",
   "execution_count": 17,
   "id": "505df191-326b-4e3a-b476-75312c5e0b3c",
   "metadata": {},
   "outputs": [
    {
     "name": "stderr",
     "output_type": "stream",
     "text": [
      "/depot/cms/kernels/coffea_latest/lib/python3.12/site-packages/coffea/nanoevents/schemas/fcc.py:5: FutureWarning: In version 2025.1.0 (target date: 2024-12-31 11:59:59-06:00), this will be an error.\n",
      "To raise these warnings as errors (and get stack traces to find out where they're called), run\n",
      "    import warnings\n",
      "    warnings.filterwarnings(\"error\", module=\"coffea.*\")\n",
      "after the first `import coffea` or use `@pytest.mark.filterwarnings(\"error:::coffea.*\")` in pytest.\n",
      "Issue: coffea.nanoevents.methods.vector will be removed and replaced with scikit-hep vector. Nanoevents schemas internal to coffea will be migrated. Otherwise please consider using that package!.\n",
      "  from coffea.nanoevents.methods import vector\n"
     ]
    },
    {
     "data": {
      "text/html": [
       "<pre>[[64.4, 62.3, 7.82, 5.38, 3.69, 2.92],\n",
       " [111, 42.8, 32.8, 13, 1.15],\n",
       " [118, 36.2, 32.2, 2.94, 2.42, 2.32],\n",
       " [65.2, 41.5, 34.2, 3.13, 2.93, 2.4],\n",
       " [66.3, 51, 29.7, 9.84, 5.38, 3.9],\n",
       " [98.1, 26.4, 18.4, 5.09, 3.56, 3.29],\n",
       " [85.3, 2.38, 2.29],\n",
       " [51.2, 24.3, 12.8, 3.19, 2.11, 1.66],\n",
       " [110, 53.4, 43.2, 4.15, 3.85, 2.71],\n",
       " [63.6, 57.5, 30.5, 7.78, 4.08, 2.92]]\n",
       "--------------------------------------\n",
       "backend: cpu\n",
       "nbytes: 948 B\n",
       "type: 10 * var * float32[parameters={&quot;__doc__&quot;: &quot;pt&quot;}]</pre>"
      ],
      "text/plain": [
       "<Array [[64.4, 62.3, ..., 3.69, 2.92], ...] type='10 * var * float32[parame...'>"
      ]
     },
     "execution_count": 17,
     "metadata": {},
     "output_type": "execute_result"
    }
   ],
   "source": [
    "saj[:10].pt.compute()"
   ]
  },
  {
   "cell_type": "code",
   "execution_count": 19,
   "id": "083f9544-1060-47c4-ab53-ad9867e0995d",
   "metadata": {},
   "outputs": [
    {
     "data": {
      "text/html": [
       "<pre>[[0.00251, 2.63, 2.44, 2.79, 1.59, 1.91],\n",
       " [0.00387, 2.16, 3.8, 2.47, 1.92],\n",
       " [0.00221, 2.24, 2.22, 2.44, 1.61, 0.618],\n",
       " [0.000424, 2.83, 2.49, 4.16, 3.04, 3.46],\n",
       " [0.00389, 4.06, 2.67, 1.01, 4.2, 3.22],\n",
       " [0.00116, 2.48, 3.98, 3.27, 1.34, 4.78],\n",
       " [0.00031, 4.4, 4.25],\n",
       " [0.000848, 3.15, 5.24, 1.35, 2.47, 4.09],\n",
       " [0.0018, 3.07, 1.87, 4.2, 3.1, 3.96],\n",
       " [0.00341, 2.33, 0.902, 3.19, 3.6, 1.89]]\n",
       "------------------------------------------\n",
       "backend: cpu\n",
       "nbytes: 384 B\n",
       "type: 10 * var * float32</pre>"
      ],
      "text/plain": [
       "<Array [[0.00251, 2.63, 2.44, ..., 1.59, 1.91], ...] type='10 * var * float32'>"
      ]
     },
     "execution_count": 19,
     "metadata": {},
     "output_type": "execute_result"
    }
   ],
   "source": [
    "dR_m1[:10].compute()"
   ]
  },
  {
   "cell_type": "code",
   "execution_count": 23,
   "id": "75144f11-dc8c-46ad-b903-df387601c862",
   "metadata": {},
   "outputs": [
    {
     "data": {
      "text/html": [
       "<pre>[[False, True, True, True, True, True],\n",
       " [False, True, True, True, True],\n",
       " [False, True, True, True, True, True],\n",
       " [False, True, True, True, True, True],\n",
       " [False, True, True, True, True, True],\n",
       " [False, True, True, True, True, True],\n",
       " [False, True, True],\n",
       " [False, True, True, True, True, True],\n",
       " [False, True, True, True, True, True],\n",
       " [False, True, True, True, True, True]]\n",
       "---------------------------------------\n",
       "backend: cpu\n",
       "nbytes: 216 B\n",
       "type: 10 * var * bool</pre>"
      ],
      "text/plain": [
       "<Array [[False, True, True, True, True, True], ...] type='10 * var * bool'>"
      ]
     },
     "execution_count": 23,
     "metadata": {},
     "output_type": "execute_result"
    }
   ],
   "source": [
    "dR_m1_filter[:10].compute()"
   ]
  },
  {
   "cell_type": "code",
   "execution_count": 20,
   "id": "d708493a-140b-4c6a-ba85-c2c94b552691",
   "metadata": {},
   "outputs": [],
   "source": [
    "good_saj = dR_m1_filter & dR_m2_filter & dR_j1_filter & dR_j2_filter\n",
    "softjet_cleaning = (good_saj) & (saj.pt > 2)\n",
    "saj_of_interest = saj[softjet_cleaning]\n",
    "ht_corrected = ak.sum(saj_of_interest.pt, axis=1)\n",
    "corrected_njets = ak.num(saj_of_interest, axis=1)"
   ]
  },
  {
   "cell_type": "code",
   "execution_count": 28,
   "id": "1689c288-8f65-4a2d-9fbc-4d31dbf374fe",
   "metadata": {},
   "outputs": [
    {
     "name": "stderr",
     "output_type": "stream",
     "text": [
      "/depot/cms/kernels/coffea_latest/lib/python3.12/site-packages/coffea/nanoevents/schemas/fcc.py:5: FutureWarning: In version 2025.1.0 (target date: 2024-12-31 11:59:59-06:00), this will be an error.\n",
      "To raise these warnings as errors (and get stack traces to find out where they're called), run\n",
      "    import warnings\n",
      "    warnings.filterwarnings(\"error\", module=\"coffea.*\")\n",
      "after the first `import coffea` or use `@pytest.mark.filterwarnings(\"error:::coffea.*\")` in pytest.\n",
      "Issue: coffea.nanoevents.methods.vector will be removed and replaced with scikit-hep vector. Nanoevents schemas internal to coffea will be migrated. Otherwise please consider using that package!.\n",
      "  from coffea.nanoevents.methods import vector\n"
     ]
    },
    {
     "data": {
      "text/html": [
       "<pre>[[64.4, 62.3, 7.82, 5.38, 3.69, 2.92],\n",
       " [111, 42.8, 32.8, 13, 1.15],\n",
       " [118, 36.2, 32.2, 2.94, 2.42, 2.32],\n",
       " [65.2, 41.5, 34.2, 3.13, 2.93, 2.4],\n",
       " [66.3, 51, 29.7, 9.84, 5.38, 3.9],\n",
       " [98.1, 26.4, 18.4, 5.09, 3.56, 3.29],\n",
       " [85.3, 2.38, 2.29],\n",
       " [51.2, 24.3, 12.8, 3.19, 2.11, 1.66],\n",
       " [110, 53.4, 43.2, 4.15, 3.85, 2.71],\n",
       " [63.6, 57.5, 30.5, 7.78, 4.08, 2.92]]\n",
       "--------------------------------------\n",
       "backend: cpu\n",
       "nbytes: 948 B\n",
       "type: 10 * var * float32[parameters={&quot;__doc__&quot;: &quot;pt&quot;}]</pre>"
      ],
      "text/plain": [
       "<Array [[64.4, 62.3, ..., 3.69, 2.92], ...] type='10 * var * float32[parame...'>"
      ]
     },
     "execution_count": 28,
     "metadata": {},
     "output_type": "execute_result"
    }
   ],
   "source": [
    "saj[:10].pt.compute()"
   ]
  },
  {
   "cell_type": "code",
   "execution_count": 29,
   "id": "4ac97db6-50d6-410b-bee9-234e78a56ee0",
   "metadata": {},
   "outputs": [
    {
     "name": "stderr",
     "output_type": "stream",
     "text": [
      "/depot/cms/kernels/coffea_latest/lib/python3.12/site-packages/coffea/nanoevents/schemas/fcc.py:5: FutureWarning: In version 2025.1.0 (target date: 2024-12-31 11:59:59-06:00), this will be an error.\n",
      "To raise these warnings as errors (and get stack traces to find out where they're called), run\n",
      "    import warnings\n",
      "    warnings.filterwarnings(\"error\", module=\"coffea.*\")\n",
      "after the first `import coffea` or use `@pytest.mark.filterwarnings(\"error:::coffea.*\")` in pytest.\n",
      "Issue: coffea.nanoevents.methods.vector will be removed and replaced with scikit-hep vector. Nanoevents schemas internal to coffea will be migrated. Otherwise please consider using that package!.\n",
      "  from coffea.nanoevents.methods import vector\n",
      "/depot/cms/kernels/coffea_latest/lib/python3.12/site-packages/coffea/nanoevents/schemas/fcc.py:5: FutureWarning: In version 2025.1.0 (target date: 2024-12-31 11:59:59-06:00), this will be an error.\n",
      "To raise these warnings as errors (and get stack traces to find out where they're called), run\n",
      "    import warnings\n",
      "    warnings.filterwarnings(\"error\", module=\"coffea.*\")\n",
      "after the first `import coffea` or use `@pytest.mark.filterwarnings(\"error:::coffea.*\")` in pytest.\n",
      "Issue: coffea.nanoevents.methods.vector will be removed and replaced with scikit-hep vector. Nanoevents schemas internal to coffea will be migrated. Otherwise please consider using that package!.\n",
      "  from coffea.nanoevents.methods import vector\n"
     ]
    },
    {
     "data": {
      "text/html": [
       "<pre>[[7.82, 5.38, 3.69, 2.92],\n",
       " [],\n",
       " [2.94, 2.42, 2.32],\n",
       " [3.13, 2.93, 2.4],\n",
       " [9.84, 5.38, 3.9],\n",
       " [5.09, 3.56, 3.29],\n",
       " [2.38],\n",
       " [3.19, 2.11],\n",
       " [4.15, 3.85, 2.71],\n",
       " [7.78, 4.08, 2.92]]\n",
       "--------------------------\n",
       "backend: cpu\n",
       "nbytes: 996 B\n",
       "type: 10 * var * float32[parameters={&quot;__doc__&quot;: &quot;pt&quot;}]</pre>"
      ],
      "text/plain": [
       "<Array [[7.82, 5.38, 3.69, 2.92], ..., [...]] type='10 * var * float32[para...'>"
      ]
     },
     "execution_count": 29,
     "metadata": {},
     "output_type": "execute_result"
    }
   ],
   "source": [
    "saj_of_interest[:10].pt.compute()"
   ]
  },
  {
   "cell_type": "code",
   "execution_count": 21,
   "id": "c4a19c22-6dd7-4de0-9fd6-856b8b1c4368",
   "metadata": {},
   "outputs": [
    {
     "name": "stderr",
     "output_type": "stream",
     "text": [
      "/depot/cms/kernels/coffea_latest/lib/python3.12/site-packages/coffea/nanoevents/schemas/fcc.py:5: FutureWarning: In version 2025.1.0 (target date: 2024-12-31 11:59:59-06:00), this will be an error.\n",
      "To raise these warnings as errors (and get stack traces to find out where they're called), run\n",
      "    import warnings\n",
      "    warnings.filterwarnings(\"error\", module=\"coffea.*\")\n",
      "after the first `import coffea` or use `@pytest.mark.filterwarnings(\"error:::coffea.*\")` in pytest.\n",
      "Issue: coffea.nanoevents.methods.vector will be removed and replaced with scikit-hep vector. Nanoevents schemas internal to coffea will be migrated. Otherwise please consider using that package!.\n",
      "  from coffea.nanoevents.methods import vector\n"
     ]
    },
    {
     "data": {
      "text/html": [
       "<pre>[19.8,\n",
       " 0,\n",
       " 7.68,\n",
       " 8.46,\n",
       " 19.1,\n",
       " 11.9,\n",
       " 2.38,\n",
       " 5.3,\n",
       " 10.7,\n",
       " 14.8,\n",
       " ...,\n",
       " 2.51,\n",
       " 3.02,\n",
       " 38.3,\n",
       " 5.73,\n",
       " 8.98,\n",
       " 14.9,\n",
       " 7.41,\n",
       " 2.36,\n",
       " 10.2]\n",
       "------\n",
       "backend: cpu\n",
       "nbytes: 132 B\n",
       "type: 33 * float32</pre>"
      ],
      "text/plain": [
       "<Array [19.8, 0, 7.68, 8.46, ..., 14.9, 7.41, 2.36, 10.2] type='33 * float32'>"
      ]
     },
     "execution_count": 21,
     "metadata": {},
     "output_type": "execute_result"
    }
   ],
   "source": [
    "ht_corrected.compute()"
   ]
  },
  {
   "cell_type": "code",
   "execution_count": 22,
   "id": "a949f98f-6621-4fb7-85ac-7a3c71c74c45",
   "metadata": {},
   "outputs": [
    {
     "name": "stderr",
     "output_type": "stream",
     "text": [
      "/depot/cms/kernels/coffea_latest/lib/python3.12/site-packages/coffea/nanoevents/schemas/fcc.py:5: FutureWarning: In version 2025.1.0 (target date: 2024-12-31 11:59:59-06:00), this will be an error.\n",
      "To raise these warnings as errors (and get stack traces to find out where they're called), run\n",
      "    import warnings\n",
      "    warnings.filterwarnings(\"error\", module=\"coffea.*\")\n",
      "after the first `import coffea` or use `@pytest.mark.filterwarnings(\"error:::coffea.*\")` in pytest.\n",
      "Issue: coffea.nanoevents.methods.vector will be removed and replaced with scikit-hep vector. Nanoevents schemas internal to coffea will be migrated. Otherwise please consider using that package!.\n",
      "  from coffea.nanoevents.methods import vector\n"
     ]
    },
    {
     "data": {
      "text/html": [
       "<pre>[4,\n",
       " 0,\n",
       " 3,\n",
       " 3,\n",
       " 3,\n",
       " 3,\n",
       " 1,\n",
       " 2,\n",
       " 3,\n",
       " 3,\n",
       " ...,\n",
       " 1,\n",
       " 1,\n",
       " 2,\n",
       " 2,\n",
       " 3,\n",
       " 3,\n",
       " 2,\n",
       " 1,\n",
       " 3]\n",
       "-----\n",
       "backend: cpu\n",
       "nbytes: 264 B\n",
       "type: 33 * int64</pre>"
      ],
      "text/plain": [
       "<Array [4, 0, 3, 3, 3, 3, 1, 2, ..., 1, 2, 2, 3, 3, 2, 1, 3] type='33 * int64'>"
      ]
     },
     "execution_count": 22,
     "metadata": {},
     "output_type": "execute_result"
    }
   ],
   "source": [
    "corrected_njets.compute()"
   ]
  },
  {
   "cell_type": "code",
   "execution_count": null,
   "id": "306ffa1c-15ae-4d79-9910-37c42b07a131",
   "metadata": {},
   "outputs": [],
   "source": []
  }
 ],
 "metadata": {
  "kernelspec": {
   "display_name": "coffea_latest",
   "language": "python",
   "name": "coffea_latest"
  },
  "language_info": {
   "codemirror_mode": {
    "name": "ipython",
    "version": 3
   },
   "file_extension": ".py",
   "mimetype": "text/x-python",
   "name": "python",
   "nbconvert_exporter": "python",
   "pygments_lexer": "ipython3",
   "version": "3.12.11"
  }
 },
 "nbformat": 4,
 "nbformat_minor": 5
}
